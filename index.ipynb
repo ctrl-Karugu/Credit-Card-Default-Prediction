{
 "cells": [
  {
   "cell_type": "markdown",
   "metadata": {},
   "source": [
    "# **Tanzanian Water Wells Prediction**\n",
    "\n",
    "---\n",
    "\n",
    "\n",
    "### **Authors:** [Abduba Galgalo](https://github.com/Abduba011), [Faith Makokha](https://github.com/faithmaks), [Femi Kamau](https://github.com/ctrl-Karugu), [John Mungai](https://github.com/Johnspes), [Susan Mungai](https://github.com/SueMungai), and [Willy Angole](https://github.com/Willy-Angole)"
   ]
  },
  {
   "cell_type": "markdown",
   "metadata": {},
   "source": [
    "## 1. Business Understanding"
   ]
  },
  {
   "cell_type": "markdown",
   "metadata": {},
   "source": [
    "## 2. Data Understanding\n",
    "\n",
    "> This phase is broken down into four tasks together with its projected outcome or output in detail:\n",
    "> - Collect Initial Data\n",
    "> - Describe Data\n",
    "> - Explore Data\n",
    "> - Verify Data Quality\n",
    "\n",
    "The data for this project was provided by our stakeholder, the World Health Organization. This data consists of information from various wells in Tanzania."
   ]
  },
  {
   "cell_type": "markdown",
   "metadata": {},
   "source": [
    "Load Libraries"
   ]
  },
  {
   "cell_type": "code",
   "execution_count": 104,
   "metadata": {},
   "outputs": [],
   "source": [
    "# data\n",
    "import numpy as np\n",
    "import pandas as pd\n",
    "\n",
    "# visualization\n",
    "import matplotlib.pyplot as plt\n",
    "import seaborn as sns\n",
    "import missingno as msno\n",
    "\n",
    "# modeling\n",
    "\n",
    "\n",
    "# styling\n",
    "import warnings\n",
    "plt.style.use('fivethirtyeight')\n",
    "sns.set_style('whitegrid')\n",
    "pd.set_option('display.max_columns', 40)\n",
    "warnings.filterwarnings('ignore')"
   ]
  },
  {
   "cell_type": "markdown",
   "metadata": {},
   "source": [
    "Load Data"
   ]
  },
  {
   "cell_type": "code",
   "execution_count": 105,
   "metadata": {},
   "outputs": [
    {
     "name": "stdout",
     "output_type": "stream",
     "text": [
      "(59400, 39)\n",
      "(59400, 1)\n"
     ]
    },
    {
     "data": {
      "text/html": [
       "<div>\n",
       "<style scoped>\n",
       "    .dataframe tbody tr th:only-of-type {\n",
       "        vertical-align: middle;\n",
       "    }\n",
       "\n",
       "    .dataframe tbody tr th {\n",
       "        vertical-align: top;\n",
       "    }\n",
       "\n",
       "    .dataframe thead th {\n",
       "        text-align: right;\n",
       "    }\n",
       "</style>\n",
       "<table border=\"1\" class=\"dataframe\">\n",
       "  <thead>\n",
       "    <tr style=\"text-align: right;\">\n",
       "      <th></th>\n",
       "      <th>amount_tsh</th>\n",
       "      <th>date_recorded</th>\n",
       "      <th>funder</th>\n",
       "      <th>gps_height</th>\n",
       "      <th>installer</th>\n",
       "      <th>longitude</th>\n",
       "      <th>latitude</th>\n",
       "      <th>wpt_name</th>\n",
       "      <th>num_private</th>\n",
       "      <th>basin</th>\n",
       "      <th>subvillage</th>\n",
       "      <th>region</th>\n",
       "      <th>region_code</th>\n",
       "      <th>district_code</th>\n",
       "      <th>lga</th>\n",
       "      <th>ward</th>\n",
       "      <th>population</th>\n",
       "      <th>public_meeting</th>\n",
       "      <th>recorded_by</th>\n",
       "      <th>scheme_management</th>\n",
       "      <th>scheme_name</th>\n",
       "      <th>permit</th>\n",
       "      <th>construction_year</th>\n",
       "      <th>extraction_type</th>\n",
       "      <th>extraction_type_group</th>\n",
       "      <th>extraction_type_class</th>\n",
       "      <th>management</th>\n",
       "      <th>management_group</th>\n",
       "      <th>payment</th>\n",
       "      <th>payment_type</th>\n",
       "      <th>water_quality</th>\n",
       "      <th>quality_group</th>\n",
       "      <th>quantity</th>\n",
       "      <th>quantity_group</th>\n",
       "      <th>source</th>\n",
       "      <th>source_type</th>\n",
       "      <th>source_class</th>\n",
       "      <th>waterpoint_type</th>\n",
       "      <th>waterpoint_type_group</th>\n",
       "      <th>status_group</th>\n",
       "    </tr>\n",
       "    <tr>\n",
       "      <th>id</th>\n",
       "      <th></th>\n",
       "      <th></th>\n",
       "      <th></th>\n",
       "      <th></th>\n",
       "      <th></th>\n",
       "      <th></th>\n",
       "      <th></th>\n",
       "      <th></th>\n",
       "      <th></th>\n",
       "      <th></th>\n",
       "      <th></th>\n",
       "      <th></th>\n",
       "      <th></th>\n",
       "      <th></th>\n",
       "      <th></th>\n",
       "      <th></th>\n",
       "      <th></th>\n",
       "      <th></th>\n",
       "      <th></th>\n",
       "      <th></th>\n",
       "      <th></th>\n",
       "      <th></th>\n",
       "      <th></th>\n",
       "      <th></th>\n",
       "      <th></th>\n",
       "      <th></th>\n",
       "      <th></th>\n",
       "      <th></th>\n",
       "      <th></th>\n",
       "      <th></th>\n",
       "      <th></th>\n",
       "      <th></th>\n",
       "      <th></th>\n",
       "      <th></th>\n",
       "      <th></th>\n",
       "      <th></th>\n",
       "      <th></th>\n",
       "      <th></th>\n",
       "      <th></th>\n",
       "      <th></th>\n",
       "    </tr>\n",
       "  </thead>\n",
       "  <tbody>\n",
       "    <tr>\n",
       "      <th>69572</th>\n",
       "      <td>6000.0</td>\n",
       "      <td>2011-03-14</td>\n",
       "      <td>Roman</td>\n",
       "      <td>1390</td>\n",
       "      <td>Roman</td>\n",
       "      <td>34.938093</td>\n",
       "      <td>-9.856322</td>\n",
       "      <td>none</td>\n",
       "      <td>0</td>\n",
       "      <td>Lake Nyasa</td>\n",
       "      <td>Mnyusi B</td>\n",
       "      <td>Iringa</td>\n",
       "      <td>11</td>\n",
       "      <td>5</td>\n",
       "      <td>Ludewa</td>\n",
       "      <td>Mundindi</td>\n",
       "      <td>109</td>\n",
       "      <td>True</td>\n",
       "      <td>GeoData Consultants Ltd</td>\n",
       "      <td>VWC</td>\n",
       "      <td>Roman</td>\n",
       "      <td>False</td>\n",
       "      <td>1999</td>\n",
       "      <td>gravity</td>\n",
       "      <td>gravity</td>\n",
       "      <td>gravity</td>\n",
       "      <td>vwc</td>\n",
       "      <td>user-group</td>\n",
       "      <td>pay annually</td>\n",
       "      <td>annually</td>\n",
       "      <td>soft</td>\n",
       "      <td>good</td>\n",
       "      <td>enough</td>\n",
       "      <td>enough</td>\n",
       "      <td>spring</td>\n",
       "      <td>spring</td>\n",
       "      <td>groundwater</td>\n",
       "      <td>communal standpipe</td>\n",
       "      <td>communal standpipe</td>\n",
       "      <td>functional</td>\n",
       "    </tr>\n",
       "    <tr>\n",
       "      <th>8776</th>\n",
       "      <td>0.0</td>\n",
       "      <td>2013-03-06</td>\n",
       "      <td>Grumeti</td>\n",
       "      <td>1399</td>\n",
       "      <td>GRUMETI</td>\n",
       "      <td>34.698766</td>\n",
       "      <td>-2.147466</td>\n",
       "      <td>Zahanati</td>\n",
       "      <td>0</td>\n",
       "      <td>Lake Victoria</td>\n",
       "      <td>Nyamara</td>\n",
       "      <td>Mara</td>\n",
       "      <td>20</td>\n",
       "      <td>2</td>\n",
       "      <td>Serengeti</td>\n",
       "      <td>Natta</td>\n",
       "      <td>280</td>\n",
       "      <td>NaN</td>\n",
       "      <td>GeoData Consultants Ltd</td>\n",
       "      <td>Other</td>\n",
       "      <td>NaN</td>\n",
       "      <td>True</td>\n",
       "      <td>2010</td>\n",
       "      <td>gravity</td>\n",
       "      <td>gravity</td>\n",
       "      <td>gravity</td>\n",
       "      <td>wug</td>\n",
       "      <td>user-group</td>\n",
       "      <td>never pay</td>\n",
       "      <td>never pay</td>\n",
       "      <td>soft</td>\n",
       "      <td>good</td>\n",
       "      <td>insufficient</td>\n",
       "      <td>insufficient</td>\n",
       "      <td>rainwater harvesting</td>\n",
       "      <td>rainwater harvesting</td>\n",
       "      <td>surface</td>\n",
       "      <td>communal standpipe</td>\n",
       "      <td>communal standpipe</td>\n",
       "      <td>functional</td>\n",
       "    </tr>\n",
       "    <tr>\n",
       "      <th>34310</th>\n",
       "      <td>25.0</td>\n",
       "      <td>2013-02-25</td>\n",
       "      <td>Lottery Club</td>\n",
       "      <td>686</td>\n",
       "      <td>World vision</td>\n",
       "      <td>37.460664</td>\n",
       "      <td>-3.821329</td>\n",
       "      <td>Kwa Mahundi</td>\n",
       "      <td>0</td>\n",
       "      <td>Pangani</td>\n",
       "      <td>Majengo</td>\n",
       "      <td>Manyara</td>\n",
       "      <td>21</td>\n",
       "      <td>4</td>\n",
       "      <td>Simanjiro</td>\n",
       "      <td>Ngorika</td>\n",
       "      <td>250</td>\n",
       "      <td>True</td>\n",
       "      <td>GeoData Consultants Ltd</td>\n",
       "      <td>VWC</td>\n",
       "      <td>Nyumba ya mungu pipe scheme</td>\n",
       "      <td>True</td>\n",
       "      <td>2009</td>\n",
       "      <td>gravity</td>\n",
       "      <td>gravity</td>\n",
       "      <td>gravity</td>\n",
       "      <td>vwc</td>\n",
       "      <td>user-group</td>\n",
       "      <td>pay per bucket</td>\n",
       "      <td>per bucket</td>\n",
       "      <td>soft</td>\n",
       "      <td>good</td>\n",
       "      <td>enough</td>\n",
       "      <td>enough</td>\n",
       "      <td>dam</td>\n",
       "      <td>dam</td>\n",
       "      <td>surface</td>\n",
       "      <td>communal standpipe multiple</td>\n",
       "      <td>communal standpipe</td>\n",
       "      <td>functional</td>\n",
       "    </tr>\n",
       "    <tr>\n",
       "      <th>67743</th>\n",
       "      <td>0.0</td>\n",
       "      <td>2013-01-28</td>\n",
       "      <td>Unicef</td>\n",
       "      <td>263</td>\n",
       "      <td>UNICEF</td>\n",
       "      <td>38.486161</td>\n",
       "      <td>-11.155298</td>\n",
       "      <td>Zahanati Ya Nanyumbu</td>\n",
       "      <td>0</td>\n",
       "      <td>Ruvuma / Southern Coast</td>\n",
       "      <td>Mahakamani</td>\n",
       "      <td>Mtwara</td>\n",
       "      <td>90</td>\n",
       "      <td>63</td>\n",
       "      <td>Nanyumbu</td>\n",
       "      <td>Nanyumbu</td>\n",
       "      <td>58</td>\n",
       "      <td>True</td>\n",
       "      <td>GeoData Consultants Ltd</td>\n",
       "      <td>VWC</td>\n",
       "      <td>NaN</td>\n",
       "      <td>True</td>\n",
       "      <td>1986</td>\n",
       "      <td>submersible</td>\n",
       "      <td>submersible</td>\n",
       "      <td>submersible</td>\n",
       "      <td>vwc</td>\n",
       "      <td>user-group</td>\n",
       "      <td>never pay</td>\n",
       "      <td>never pay</td>\n",
       "      <td>soft</td>\n",
       "      <td>good</td>\n",
       "      <td>dry</td>\n",
       "      <td>dry</td>\n",
       "      <td>machine dbh</td>\n",
       "      <td>borehole</td>\n",
       "      <td>groundwater</td>\n",
       "      <td>communal standpipe multiple</td>\n",
       "      <td>communal standpipe</td>\n",
       "      <td>non functional</td>\n",
       "    </tr>\n",
       "    <tr>\n",
       "      <th>19728</th>\n",
       "      <td>0.0</td>\n",
       "      <td>2011-07-13</td>\n",
       "      <td>Action In A</td>\n",
       "      <td>0</td>\n",
       "      <td>Artisan</td>\n",
       "      <td>31.130847</td>\n",
       "      <td>-1.825359</td>\n",
       "      <td>Shuleni</td>\n",
       "      <td>0</td>\n",
       "      <td>Lake Victoria</td>\n",
       "      <td>Kyanyamisa</td>\n",
       "      <td>Kagera</td>\n",
       "      <td>18</td>\n",
       "      <td>1</td>\n",
       "      <td>Karagwe</td>\n",
       "      <td>Nyakasimbi</td>\n",
       "      <td>0</td>\n",
       "      <td>True</td>\n",
       "      <td>GeoData Consultants Ltd</td>\n",
       "      <td>NaN</td>\n",
       "      <td>NaN</td>\n",
       "      <td>True</td>\n",
       "      <td>0</td>\n",
       "      <td>gravity</td>\n",
       "      <td>gravity</td>\n",
       "      <td>gravity</td>\n",
       "      <td>other</td>\n",
       "      <td>other</td>\n",
       "      <td>never pay</td>\n",
       "      <td>never pay</td>\n",
       "      <td>soft</td>\n",
       "      <td>good</td>\n",
       "      <td>seasonal</td>\n",
       "      <td>seasonal</td>\n",
       "      <td>rainwater harvesting</td>\n",
       "      <td>rainwater harvesting</td>\n",
       "      <td>surface</td>\n",
       "      <td>communal standpipe</td>\n",
       "      <td>communal standpipe</td>\n",
       "      <td>functional</td>\n",
       "    </tr>\n",
       "  </tbody>\n",
       "</table>\n",
       "</div>"
      ],
      "text/plain": [
       "       amount_tsh date_recorded        funder  gps_height     installer  \\\n",
       "id                                                                        \n",
       "69572      6000.0    2011-03-14         Roman        1390         Roman   \n",
       "8776          0.0    2013-03-06       Grumeti        1399       GRUMETI   \n",
       "34310        25.0    2013-02-25  Lottery Club         686  World vision   \n",
       "67743         0.0    2013-01-28        Unicef         263        UNICEF   \n",
       "19728         0.0    2011-07-13   Action In A           0       Artisan   \n",
       "\n",
       "       longitude   latitude              wpt_name  num_private  \\\n",
       "id                                                               \n",
       "69572  34.938093  -9.856322                  none            0   \n",
       "8776   34.698766  -2.147466              Zahanati            0   \n",
       "34310  37.460664  -3.821329           Kwa Mahundi            0   \n",
       "67743  38.486161 -11.155298  Zahanati Ya Nanyumbu            0   \n",
       "19728  31.130847  -1.825359               Shuleni            0   \n",
       "\n",
       "                         basin  subvillage   region  region_code  \\\n",
       "id                                                                 \n",
       "69572               Lake Nyasa    Mnyusi B   Iringa           11   \n",
       "8776             Lake Victoria     Nyamara     Mara           20   \n",
       "34310                  Pangani     Majengo  Manyara           21   \n",
       "67743  Ruvuma / Southern Coast  Mahakamani   Mtwara           90   \n",
       "19728            Lake Victoria  Kyanyamisa   Kagera           18   \n",
       "\n",
       "       district_code        lga        ward  population public_meeting  \\\n",
       "id                                                                       \n",
       "69572              5     Ludewa    Mundindi         109           True   \n",
       "8776               2  Serengeti       Natta         280            NaN   \n",
       "34310              4  Simanjiro     Ngorika         250           True   \n",
       "67743             63   Nanyumbu    Nanyumbu          58           True   \n",
       "19728              1    Karagwe  Nyakasimbi           0           True   \n",
       "\n",
       "                   recorded_by scheme_management                  scheme_name  \\\n",
       "id                                                                              \n",
       "69572  GeoData Consultants Ltd               VWC                        Roman   \n",
       "8776   GeoData Consultants Ltd             Other                          NaN   \n",
       "34310  GeoData Consultants Ltd               VWC  Nyumba ya mungu pipe scheme   \n",
       "67743  GeoData Consultants Ltd               VWC                          NaN   \n",
       "19728  GeoData Consultants Ltd               NaN                          NaN   \n",
       "\n",
       "      permit  construction_year extraction_type extraction_type_group  \\\n",
       "id                                                                      \n",
       "69572  False               1999         gravity               gravity   \n",
       "8776    True               2010         gravity               gravity   \n",
       "34310   True               2009         gravity               gravity   \n",
       "67743   True               1986     submersible           submersible   \n",
       "19728   True                  0         gravity               gravity   \n",
       "\n",
       "      extraction_type_class management management_group         payment  \\\n",
       "id                                                                        \n",
       "69572               gravity        vwc       user-group    pay annually   \n",
       "8776                gravity        wug       user-group       never pay   \n",
       "34310               gravity        vwc       user-group  pay per bucket   \n",
       "67743           submersible        vwc       user-group       never pay   \n",
       "19728               gravity      other            other       never pay   \n",
       "\n",
       "      payment_type water_quality quality_group      quantity quantity_group  \\\n",
       "id                                                                            \n",
       "69572     annually          soft          good        enough         enough   \n",
       "8776     never pay          soft          good  insufficient   insufficient   \n",
       "34310   per bucket          soft          good        enough         enough   \n",
       "67743    never pay          soft          good           dry            dry   \n",
       "19728    never pay          soft          good      seasonal       seasonal   \n",
       "\n",
       "                     source           source_type source_class  \\\n",
       "id                                                               \n",
       "69572                spring                spring  groundwater   \n",
       "8776   rainwater harvesting  rainwater harvesting      surface   \n",
       "34310                   dam                   dam      surface   \n",
       "67743           machine dbh              borehole  groundwater   \n",
       "19728  rainwater harvesting  rainwater harvesting      surface   \n",
       "\n",
       "                   waterpoint_type waterpoint_type_group    status_group  \n",
       "id                                                                        \n",
       "69572           communal standpipe    communal standpipe      functional  \n",
       "8776            communal standpipe    communal standpipe      functional  \n",
       "34310  communal standpipe multiple    communal standpipe      functional  \n",
       "67743  communal standpipe multiple    communal standpipe  non functional  \n",
       "19728           communal standpipe    communal standpipe      functional  "
      ]
     },
     "execution_count": 105,
     "metadata": {},
     "output_type": "execute_result"
    }
   ],
   "source": [
    "# Load the well values data into pandas DataFrame\n",
    "df_values = pd.read_csv(\"./data/well_data_values.csv\", index_col=0)\n",
    "\n",
    "# Load the well labels data into pandas DataFrame\n",
    "df_labels = pd.read_csv(\"./data/well_data_labels.csv\", index_col=0)\n",
    "\n",
    "# Print the shape of the two DataFrames to check if they are good to join/merge\n",
    "print(df_values.shape)\n",
    "print(df_labels.shape)\n",
    "\n",
    "# Create a combined DataFrame with both the value and label data joined on the 'id' column\n",
    "data = df_values.join(df_labels, on='id')\n",
    "\n",
    "# Preview the DataFrame\n",
    "data.head(5)"
   ]
  },
  {
   "cell_type": "code",
   "execution_count": 106,
   "metadata": {},
   "outputs": [
    {
     "name": "stdout",
     "output_type": "stream",
     "text": [
      "<class 'pandas.core.frame.DataFrame'>\n",
      "Int64Index: 59400 entries, 69572 to 26348\n",
      "Data columns (total 40 columns):\n",
      " #   Column                 Non-Null Count  Dtype  \n",
      "---  ------                 --------------  -----  \n",
      " 0   amount_tsh             59400 non-null  float64\n",
      " 1   date_recorded          59400 non-null  object \n",
      " 2   funder                 55765 non-null  object \n",
      " 3   gps_height             59400 non-null  int64  \n",
      " 4   installer              55745 non-null  object \n",
      " 5   longitude              59400 non-null  float64\n",
      " 6   latitude               59400 non-null  float64\n",
      " 7   wpt_name               59400 non-null  object \n",
      " 8   num_private            59400 non-null  int64  \n",
      " 9   basin                  59400 non-null  object \n",
      " 10  subvillage             59029 non-null  object \n",
      " 11  region                 59400 non-null  object \n",
      " 12  region_code            59400 non-null  int64  \n",
      " 13  district_code          59400 non-null  int64  \n",
      " 14  lga                    59400 non-null  object \n",
      " 15  ward                   59400 non-null  object \n",
      " 16  population             59400 non-null  int64  \n",
      " 17  public_meeting         56066 non-null  object \n",
      " 18  recorded_by            59400 non-null  object \n",
      " 19  scheme_management      55523 non-null  object \n",
      " 20  scheme_name            31234 non-null  object \n",
      " 21  permit                 56344 non-null  object \n",
      " 22  construction_year      59400 non-null  int64  \n",
      " 23  extraction_type        59400 non-null  object \n",
      " 24  extraction_type_group  59400 non-null  object \n",
      " 25  extraction_type_class  59400 non-null  object \n",
      " 26  management             59400 non-null  object \n",
      " 27  management_group       59400 non-null  object \n",
      " 28  payment                59400 non-null  object \n",
      " 29  payment_type           59400 non-null  object \n",
      " 30  water_quality          59400 non-null  object \n",
      " 31  quality_group          59400 non-null  object \n",
      " 32  quantity               59400 non-null  object \n",
      " 33  quantity_group         59400 non-null  object \n",
      " 34  source                 59400 non-null  object \n",
      " 35  source_type            59400 non-null  object \n",
      " 36  source_class           59400 non-null  object \n",
      " 37  waterpoint_type        59400 non-null  object \n",
      " 38  waterpoint_type_group  59400 non-null  object \n",
      " 39  status_group           59400 non-null  object \n",
      "dtypes: float64(3), int64(6), object(31)\n",
      "memory usage: 18.6+ MB\n"
     ]
    }
   ],
   "source": [
    "# Describe the the DataFrame\n",
    "data.info()"
   ]
  },
  {
   "cell_type": "code",
   "execution_count": 107,
   "metadata": {},
   "outputs": [
    {
     "name": "stdout",
     "output_type": "stream",
     "text": [
      "Numerical Columns: Index(['amount_tsh', 'gps_height', 'longitude', 'latitude', 'num_private',\n",
      "       'region_code', 'district_code', 'population', 'construction_year'],\n",
      "      dtype='object')\n",
      "\n",
      "Categorical Columns: Index(['date_recorded', 'funder', 'installer', 'wpt_name', 'basin',\n",
      "       'subvillage', 'region', 'lga', 'ward', 'public_meeting', 'recorded_by',\n",
      "       'scheme_management', 'scheme_name', 'permit', 'extraction_type',\n",
      "       'extraction_type_group', 'extraction_type_class', 'management',\n",
      "       'management_group', 'payment', 'payment_type', 'water_quality',\n",
      "       'quality_group', 'quantity', 'quantity_group', 'source', 'source_type',\n",
      "       'source_class', 'waterpoint_type', 'waterpoint_type_group',\n",
      "       'status_group'],\n",
      "      dtype='object')\n"
     ]
    }
   ],
   "source": [
    "# Numerical Columns\n",
    "print(f\"Numerical Columns: {data.select_dtypes(include='number').columns}\\n\")\n",
    "\n",
    "# Categorical Columns\n",
    "print(f\"Categorical Columns: {data.select_dtypes(include='object').columns}\")"
   ]
  },
  {
   "cell_type": "markdown",
   "metadata": {},
   "source": [
    "The dataset consists of 40 columns and 59400 records. These are:\n",
    "- **Numerical Columns (9)**\n",
    "\n",
    "    `amount_tsh` - Total static head (amount water available to waterpoint)\n",
    "\n",
    "    `gps_height` - Altitude of the well\n",
    "\n",
    "    `longitude` - GPS coordinate\n",
    "\n",
    "    `latitude` - GPS coordinate\n",
    "\n",
    "    `num_private` - \n",
    "\n",
    "    `region_code` - Geographic location (coded)\n",
    "\n",
    "    `district_code` - Geographic location (coded)\n",
    "\n",
    "    `population` - Population around the well\n",
    "\n",
    "    `construction_year` : Year the waterpoint was constructed\n",
    "\n",
    "- **Categorical Columns (31)**\n",
    "\n",
    "    `date_recorded` - The date the row was entered\n",
    "\n",
    "    `installer` - Organization that installed the well\n",
    "  \n",
    "    `funder` - Who funded the well\n",
    "\n",
    "    `wpt_name` - Name of the waterpoint if there is one\n",
    "\n",
    "    `basin` - Geographic water basin\n",
    "\n",
    "    `subvillage` - Geographic location\n",
    "\n",
    "    `region` - Geographic location\n",
    "\n",
    "    `lga` - Geographic location\n",
    "\n",
    "    `ward` - Geographic location\n",
    "\n",
    "    `public_meeting` - True/False\n",
    "\n",
    "    `recorded_by` - Group entering this row of data\n",
    "\n",
    "    `scheme_management` - Who operates the waterpoint\n",
    "\n",
    "    `scheme_name` - Who operates the waterpoint\n",
    "\n",
    "    `permit` - If the waterpoint is permitted\n",
    "\n",
    "    `extraction_type` - The kind of extraction the waterpoint uses\n",
    "\n",
    "    `extraction_type_group` - The kind of extraction the waterpoint uses\n",
    "\n",
    "    `extraction_type_class` - The kind of extraction the waterpoint uses\n",
    "\n",
    "    `management` - How the waterpoint is managed\n",
    "\n",
    "    `management_group` - How the waterpoint is managed\n",
    "\n",
    "    `payment` - What the water costs\n",
    "\n",
    "    `payment_type` - What the water costs\n",
    "\n",
    "    `water_quality` - The quality of the water\n",
    "\n",
    "    `quality_group` - The quality of the water\n",
    "\n",
    "    `quantity` - The quantity of water\n",
    "\n",
    "    `quantity_group` - The quantity of water\n",
    "\n",
    "    `source` - The source of the water\n",
    "\n",
    "    `source_type` - The source of the water\n",
    "\n",
    "    `source_class` - The source of the water\n",
    "\n",
    "    `waterpoint_type` - The kind of waterpoint\n",
    "\n",
    "    `waterpoint_type_group` - The kind of waterpoint\n",
    "\n",
    "    `status_group`- The condition of the wells (target variable)"
   ]
  },
  {
   "cell_type": "code",
   "execution_count": 108,
   "metadata": {},
   "outputs": [
    {
     "data": {
      "image/png": "[encoded data removed]",
      "text/plain": [
       "<Figure size 1440x360 with 3 Axes>"
      ]
     },
     "metadata": {},
     "output_type": "display_data"
    }
   ],
   "source": [
    "# Visualise the missing data in the DataFrame\n",
    "msno.bar(data, figsize=(20, 5), fontsize=(10), color='#037bfc')\n",
    "plt.title(\"Missing Data Visualisation\")\n",
    "plt.xticks(rotation = 90, fontsize=10);"
   ]
  },
  {
   "cell_type": "markdown",
   "metadata": {},
   "source": [
    "The overall dataset does not contain much missing data. However, the `scheme_name` column is missing approximately half its data."
   ]
  },
  {
   "cell_type": "code",
   "execution_count": 109,
   "metadata": {},
   "outputs": [
    {
     "data": {
      "text/html": [
       "<div>\n",
       "<style scoped>\n",
       "    .dataframe tbody tr th:only-of-type {\n",
       "        vertical-align: middle;\n",
       "    }\n",
       "\n",
       "    .dataframe tbody tr th {\n",
       "        vertical-align: top;\n",
       "    }\n",
       "\n",
       "    .dataframe thead th {\n",
       "        text-align: right;\n",
       "    }\n",
       "</style>\n",
       "<table border=\"1\" class=\"dataframe\">\n",
       "  <thead>\n",
       "    <tr style=\"text-align: right;\">\n",
       "      <th></th>\n",
       "      <th>amount_tsh</th>\n",
       "      <th>gps_height</th>\n",
       "      <th>longitude</th>\n",
       "      <th>latitude</th>\n",
       "      <th>num_private</th>\n",
       "      <th>region_code</th>\n",
       "      <th>district_code</th>\n",
       "      <th>population</th>\n",
       "      <th>construction_year</th>\n",
       "    </tr>\n",
       "  </thead>\n",
       "  <tbody>\n",
       "    <tr>\n",
       "      <th>count</th>\n",
       "      <td>59400.000000</td>\n",
       "      <td>59400.000000</td>\n",
       "      <td>59400.000000</td>\n",
       "      <td>5.940000e+04</td>\n",
       "      <td>59400.000000</td>\n",
       "      <td>59400.000000</td>\n",
       "      <td>59400.000000</td>\n",
       "      <td>59400.000000</td>\n",
       "      <td>59400.000000</td>\n",
       "    </tr>\n",
       "    <tr>\n",
       "      <th>mean</th>\n",
       "      <td>317.650385</td>\n",
       "      <td>668.297239</td>\n",
       "      <td>34.077427</td>\n",
       "      <td>-5.706033e+00</td>\n",
       "      <td>0.474141</td>\n",
       "      <td>15.297003</td>\n",
       "      <td>5.629747</td>\n",
       "      <td>179.909983</td>\n",
       "      <td>1300.652475</td>\n",
       "    </tr>\n",
       "    <tr>\n",
       "      <th>std</th>\n",
       "      <td>2997.574558</td>\n",
       "      <td>693.116350</td>\n",
       "      <td>6.567432</td>\n",
       "      <td>2.946019e+00</td>\n",
       "      <td>12.236230</td>\n",
       "      <td>17.587406</td>\n",
       "      <td>9.633649</td>\n",
       "      <td>471.482176</td>\n",
       "      <td>951.620547</td>\n",
       "    </tr>\n",
       "    <tr>\n",
       "      <th>min</th>\n",
       "      <td>0.000000</td>\n",
       "      <td>-90.000000</td>\n",
       "      <td>0.000000</td>\n",
       "      <td>-1.164944e+01</td>\n",
       "      <td>0.000000</td>\n",
       "      <td>1.000000</td>\n",
       "      <td>0.000000</td>\n",
       "      <td>0.000000</td>\n",
       "      <td>0.000000</td>\n",
       "    </tr>\n",
       "    <tr>\n",
       "      <th>25%</th>\n",
       "      <td>0.000000</td>\n",
       "      <td>0.000000</td>\n",
       "      <td>33.090347</td>\n",
       "      <td>-8.540621e+00</td>\n",
       "      <td>0.000000</td>\n",
       "      <td>5.000000</td>\n",
       "      <td>2.000000</td>\n",
       "      <td>0.000000</td>\n",
       "      <td>0.000000</td>\n",
       "    </tr>\n",
       "    <tr>\n",
       "      <th>50%</th>\n",
       "      <td>0.000000</td>\n",
       "      <td>369.000000</td>\n",
       "      <td>34.908743</td>\n",
       "      <td>-5.021597e+00</td>\n",
       "      <td>0.000000</td>\n",
       "      <td>12.000000</td>\n",
       "      <td>3.000000</td>\n",
       "      <td>25.000000</td>\n",
       "      <td>1986.000000</td>\n",
       "    </tr>\n",
       "    <tr>\n",
       "      <th>75%</th>\n",
       "      <td>20.000000</td>\n",
       "      <td>1319.250000</td>\n",
       "      <td>37.178387</td>\n",
       "      <td>-3.326156e+00</td>\n",
       "      <td>0.000000</td>\n",
       "      <td>17.000000</td>\n",
       "      <td>5.000000</td>\n",
       "      <td>215.000000</td>\n",
       "      <td>2004.000000</td>\n",
       "    </tr>\n",
       "    <tr>\n",
       "      <th>max</th>\n",
       "      <td>350000.000000</td>\n",
       "      <td>2770.000000</td>\n",
       "      <td>40.345193</td>\n",
       "      <td>-2.000000e-08</td>\n",
       "      <td>1776.000000</td>\n",
       "      <td>99.000000</td>\n",
       "      <td>80.000000</td>\n",
       "      <td>30500.000000</td>\n",
       "      <td>2013.000000</td>\n",
       "    </tr>\n",
       "  </tbody>\n",
       "</table>\n",
       "</div>"
      ],
      "text/plain": [
       "          amount_tsh    gps_height     longitude      latitude   num_private  \\\n",
       "count   59400.000000  59400.000000  59400.000000  5.940000e+04  59400.000000   \n",
       "mean      317.650385    668.297239     34.077427 -5.706033e+00      0.474141   \n",
       "std      2997.574558    693.116350      6.567432  2.946019e+00     12.236230   \n",
       "min         0.000000    -90.000000      0.000000 -1.164944e+01      0.000000   \n",
       "25%         0.000000      0.000000     33.090347 -8.540621e+00      0.000000   \n",
       "50%         0.000000    369.000000     34.908743 -5.021597e+00      0.000000   \n",
       "75%        20.000000   1319.250000     37.178387 -3.326156e+00      0.000000   \n",
       "max    350000.000000   2770.000000     40.345193 -2.000000e-08   1776.000000   \n",
       "\n",
       "        region_code  district_code    population  construction_year  \n",
       "count  59400.000000   59400.000000  59400.000000       59400.000000  \n",
       "mean      15.297003       5.629747    179.909983        1300.652475  \n",
       "std       17.587406       9.633649    471.482176         951.620547  \n",
       "min        1.000000       0.000000      0.000000           0.000000  \n",
       "25%        5.000000       2.000000      0.000000           0.000000  \n",
       "50%       12.000000       3.000000     25.000000        1986.000000  \n",
       "75%       17.000000       5.000000    215.000000        2004.000000  \n",
       "max       99.000000      80.000000  30500.000000        2013.000000  "
      ]
     },
     "execution_count": 109,
     "metadata": {},
     "output_type": "execute_result"
    }
   ],
   "source": [
    "# Describe the numerical data\n",
    "data.describe()"
   ]
  },
  {
   "cell_type": "markdown",
   "metadata": {},
   "source": [
    "From the numerical column description, we can see that the data is "
   ]
  },
  {
   "cell_type": "markdown",
   "metadata": {},
   "source": [
    "## 3. Data Preparation\n",
    "> This phase, which is often referred to as “data munging”, prepares the final data set(s) for modeling. It has the following tasks:\n",
    "> - Select Data\n",
    "> - Clean Data\n",
    "> - EDA"
   ]
  },
  {
   "cell_type": "markdown",
   "metadata": {},
   "source": [
    "### 3.1 Select Data\n",
    "> In this section, we determine which columns we intend to use.\n",
    "\n",
    "We observed that out of the 40 columns that we have in our dataset, most seem to be related to each other. Therefore, we are going to compare the related columns in order to evaluate the truth of the previous statement, and if so, also select the most appropriate columns.\n",
    "\n",
    "The metrics that we shall employ to evaluate the related columns are:\n",
    "- Value Counts\n",
    "\n",
    "We shall also be selecting columns based on their ability to answer our business and research questions."
   ]
  },
  {
   "cell_type": "markdown",
   "metadata": {},
   "source": [
    "#### 3.1.1 `scheme_management` | `management` | `management_group`\n",
    "\n",
    "The `scheme_management`, `management`, and `management_group`columns are all 'management of the well' related columns. We shall begin by evaluating their value counts in order to check the similarity of data"
   ]
  },
  {
   "cell_type": "code",
   "execution_count": 110,
   "metadata": {},
   "outputs": [
    {
     "data": {
      "text/plain": [
       "VWC                 36793\n",
       "WUG                  5206\n",
       "NaN                  3877\n",
       "Water authority      3153\n",
       "WUA                  2883\n",
       "Water Board          2748\n",
       "Parastatal           1680\n",
       "Private operator     1063\n",
       "Company              1061\n",
       "Other                 766\n",
       "SWC                    97\n",
       "Trust                  72\n",
       "None                    1\n",
       "Name: scheme_management, dtype: int64"
      ]
     },
     "execution_count": 110,
     "metadata": {},
     "output_type": "execute_result"
    }
   ],
   "source": [
    "# Find the value counts of the scheme_management column\n",
    "data['scheme_management'].value_counts(dropna=False)"
   ]
  },
  {
   "cell_type": "code",
   "execution_count": 111,
   "metadata": {},
   "outputs": [
    {
     "data": {
      "text/plain": [
       "vwc                 40507\n",
       "wug                  6515\n",
       "water board          2933\n",
       "wua                  2535\n",
       "private operator     1971\n",
       "parastatal           1768\n",
       "water authority       904\n",
       "other                 844\n",
       "company               685\n",
       "unknown               561\n",
       "other - school         99\n",
       "trust                  78\n",
       "Name: management, dtype: int64"
      ]
     },
     "execution_count": 111,
     "metadata": {},
     "output_type": "execute_result"
    }
   ],
   "source": [
    "# Find the value counts of the management column\n",
    "data['management'].value_counts(dropna=False)"
   ]
  },
  {
   "cell_type": "code",
   "execution_count": 112,
   "metadata": {},
   "outputs": [
    {
     "data": {
      "text/plain": [
       "user-group    52490\n",
       "commercial     3638\n",
       "parastatal     1768\n",
       "other           943\n",
       "unknown         561\n",
       "Name: management_group, dtype: int64"
      ]
     },
     "execution_count": 112,
     "metadata": {},
     "output_type": "execute_result"
    }
   ],
   "source": [
    "# Find the value counts of the management_group column\n",
    "data['management_group'].value_counts(dropna=False)"
   ]
  },
  {
   "cell_type": "markdown",
   "metadata": {},
   "source": [
    "Looking at the management colmns, we can see `scheme_management` and `management` are related. However, `management_group` is not related to the other two columns, and it contains fewer unique values than the others. Between `scheme_management` and `management`, we see that `scheme_management` contains more missing values. Therefore, it would be better to work with `management` instead of `scheme_management`.\n",
    "\n",
    "As for the `management_group` column, we will perform a groupby operation on the pandas dataframe to evaluate the relationship between the `management_group` and the `management` columns."
   ]
  },
  {
   "cell_type": "code",
   "execution_count": 113,
   "metadata": {},
   "outputs": [
    {
     "data": {
      "text/html": [
       "<div>\n",
       "<style scoped>\n",
       "    .dataframe tbody tr th:only-of-type {\n",
       "        vertical-align: middle;\n",
       "    }\n",
       "\n",
       "    .dataframe tbody tr th {\n",
       "        vertical-align: top;\n",
       "    }\n",
       "\n",
       "    .dataframe thead th {\n",
       "        text-align: right;\n",
       "    }\n",
       "</style>\n",
       "<table border=\"1\" class=\"dataframe\">\n",
       "  <thead>\n",
       "    <tr style=\"text-align: right;\">\n",
       "      <th></th>\n",
       "      <th></th>\n",
       "      <th>0</th>\n",
       "    </tr>\n",
       "    <tr>\n",
       "      <th>management_group</th>\n",
       "      <th>management</th>\n",
       "      <th></th>\n",
       "    </tr>\n",
       "  </thead>\n",
       "  <tbody>\n",
       "    <tr>\n",
       "      <th rowspan=\"4\" valign=\"top\">commercial</th>\n",
       "      <th>company</th>\n",
       "      <td>685</td>\n",
       "    </tr>\n",
       "    <tr>\n",
       "      <th>private operator</th>\n",
       "      <td>1971</td>\n",
       "    </tr>\n",
       "    <tr>\n",
       "      <th>trust</th>\n",
       "      <td>78</td>\n",
       "    </tr>\n",
       "    <tr>\n",
       "      <th>water authority</th>\n",
       "      <td>904</td>\n",
       "    </tr>\n",
       "    <tr>\n",
       "      <th rowspan=\"2\" valign=\"top\">other</th>\n",
       "      <th>other</th>\n",
       "      <td>844</td>\n",
       "    </tr>\n",
       "    <tr>\n",
       "      <th>other - school</th>\n",
       "      <td>99</td>\n",
       "    </tr>\n",
       "    <tr>\n",
       "      <th>parastatal</th>\n",
       "      <th>parastatal</th>\n",
       "      <td>1768</td>\n",
       "    </tr>\n",
       "    <tr>\n",
       "      <th>unknown</th>\n",
       "      <th>unknown</th>\n",
       "      <td>561</td>\n",
       "    </tr>\n",
       "    <tr>\n",
       "      <th rowspan=\"4\" valign=\"top\">user-group</th>\n",
       "      <th>vwc</th>\n",
       "      <td>40507</td>\n",
       "    </tr>\n",
       "    <tr>\n",
       "      <th>water board</th>\n",
       "      <td>2933</td>\n",
       "    </tr>\n",
       "    <tr>\n",
       "      <th>wua</th>\n",
       "      <td>2535</td>\n",
       "    </tr>\n",
       "    <tr>\n",
       "      <th>wug</th>\n",
       "      <td>6515</td>\n",
       "    </tr>\n",
       "  </tbody>\n",
       "</table>\n",
       "</div>"
      ],
      "text/plain": [
       "                                       0\n",
       "management_group management             \n",
       "commercial       company             685\n",
       "                 private operator   1971\n",
       "                 trust                78\n",
       "                 water authority     904\n",
       "other            other               844\n",
       "                 other - school       99\n",
       "parastatal       parastatal         1768\n",
       "unknown          unknown             561\n",
       "user-group       vwc               40507\n",
       "                 water board        2933\n",
       "                 wua                2535\n",
       "                 wug                6515"
      ]
     },
     "execution_count": 113,
     "metadata": {},
     "output_type": "execute_result"
    }
   ],
   "source": [
    "# Create a copy of the DataFrame and drop the scheme_management column from it\n",
    "new_data = data.copy().drop(['scheme_management'], axis=1)\n",
    "\n",
    "# Group the data by the management_group column and the management column\n",
    "pd.DataFrame(new_data.groupby(['management_group', 'management']).size())"
   ]
  },
  {
   "cell_type": "markdown",
   "metadata": {},
   "source": [
    "We can see that there is a relationship between the `management_group` and the `management` columns. However, the `management_group` column contains fewer unique values than the `management` column. In order to avoid the curse of dimensionality, we will drop the `management_group` column."
   ]
  },
  {
   "cell_type": "markdown",
   "metadata": {},
   "source": [
    "#### 3.1.2 `extraction_type` | `extraction_type_group` | `extraction_type_class`\n",
    "\n",
    "The `extraction_type`, `extraction_type_group`, and `extraction_type_class` are all 'extraction type' related columns. We shall begin by evaluating their value counts in order to check the similarity of data"
   ]
  },
  {
   "cell_type": "code",
   "execution_count": 114,
   "metadata": {},
   "outputs": [
    {
     "data": {
      "text/plain": [
       "gravity                      26780\n",
       "nira/tanira                   8154\n",
       "other                         6430\n",
       "submersible                   4764\n",
       "swn 80                        3670\n",
       "mono                          2865\n",
       "india mark ii                 2400\n",
       "afridev                       1770\n",
       "ksb                           1415\n",
       "other - rope pump              451\n",
       "other - swn 81                 229\n",
       "windmill                       117\n",
       "india mark iii                  98\n",
       "cemo                            90\n",
       "other - play pump               85\n",
       "walimi                          48\n",
       "climax                          32\n",
       "other - mkulima/shinyanga        2\n",
       "Name: extraction_type, dtype: int64"
      ]
     },
     "execution_count": 114,
     "metadata": {},
     "output_type": "execute_result"
    }
   ],
   "source": [
    "# Find the value counts of the 'extraction_type' column\n",
    "data['extraction_type'].value_counts(dropna=False)"
   ]
  },
  {
   "cell_type": "code",
   "execution_count": 115,
   "metadata": {},
   "outputs": [
    {
     "data": {
      "text/plain": [
       "gravity            26780\n",
       "nira/tanira         8154\n",
       "other               6430\n",
       "submersible         6179\n",
       "swn 80              3670\n",
       "mono                2865\n",
       "india mark ii       2400\n",
       "afridev             1770\n",
       "rope pump            451\n",
       "other handpump       364\n",
       "other motorpump      122\n",
       "wind-powered         117\n",
       "india mark iii        98\n",
       "Name: extraction_type_group, dtype: int64"
      ]
     },
     "execution_count": 115,
     "metadata": {},
     "output_type": "execute_result"
    }
   ],
   "source": [
    "# Find the value counts of the 'extraction_type_group' column\n",
    "data['extraction_type_group'].value_counts(dropna=False)"
   ]
  },
  {
   "cell_type": "code",
   "execution_count": 116,
   "metadata": {},
   "outputs": [
    {
     "data": {
      "text/plain": [
       "gravity         26780\n",
       "handpump        16456\n",
       "other            6430\n",
       "submersible      6179\n",
       "motorpump        2987\n",
       "rope pump         451\n",
       "wind-powered      117\n",
       "Name: extraction_type_class, dtype: int64"
      ]
     },
     "execution_count": 116,
     "metadata": {},
     "output_type": "execute_result"
    }
   ],
   "source": [
    "# Find the value counts of the 'extraction_type_class' column\n",
    "data['extraction_type_class'].value_counts(dropna=False) "
   ]
  },
  {
   "cell_type": "markdown",
   "metadata": {},
   "source": [
    "Once again, we can see that the `extraction_type` and `extraction_type_group` columns are related. However, `extraction_type_class` is not related to the other two columns, and it contains fewer unique values than the others. All in all, we can see that these three columns contain the same information. Therefore, we shall evaluate the groupby operation on all three of them."
   ]
  },
  {
   "cell_type": "code",
   "execution_count": 117,
   "metadata": {},
   "outputs": [
    {
     "data": {
      "text/html": [
       "<div>\n",
       "<style scoped>\n",
       "    .dataframe tbody tr th:only-of-type {\n",
       "        vertical-align: middle;\n",
       "    }\n",
       "\n",
       "    .dataframe tbody tr th {\n",
       "        vertical-align: top;\n",
       "    }\n",
       "\n",
       "    .dataframe thead th {\n",
       "        text-align: right;\n",
       "    }\n",
       "</style>\n",
       "<table border=\"1\" class=\"dataframe\">\n",
       "  <thead>\n",
       "    <tr style=\"text-align: right;\">\n",
       "      <th></th>\n",
       "      <th></th>\n",
       "      <th></th>\n",
       "      <th>0</th>\n",
       "    </tr>\n",
       "    <tr>\n",
       "      <th>extraction_type_class</th>\n",
       "      <th>extraction_type_group</th>\n",
       "      <th>extraction_type</th>\n",
       "      <th></th>\n",
       "    </tr>\n",
       "  </thead>\n",
       "  <tbody>\n",
       "    <tr>\n",
       "      <th>gravity</th>\n",
       "      <th>gravity</th>\n",
       "      <th>gravity</th>\n",
       "      <td>26780</td>\n",
       "    </tr>\n",
       "    <tr>\n",
       "      <th rowspan=\"9\" valign=\"top\">handpump</th>\n",
       "      <th>afridev</th>\n",
       "      <th>afridev</th>\n",
       "      <td>1770</td>\n",
       "    </tr>\n",
       "    <tr>\n",
       "      <th>india mark ii</th>\n",
       "      <th>india mark ii</th>\n",
       "      <td>2400</td>\n",
       "    </tr>\n",
       "    <tr>\n",
       "      <th>india mark iii</th>\n",
       "      <th>india mark iii</th>\n",
       "      <td>98</td>\n",
       "    </tr>\n",
       "    <tr>\n",
       "      <th>nira/tanira</th>\n",
       "      <th>nira/tanira</th>\n",
       "      <td>8154</td>\n",
       "    </tr>\n",
       "    <tr>\n",
       "      <th rowspan=\"4\" valign=\"top\">other handpump</th>\n",
       "      <th>other - mkulima/shinyanga</th>\n",
       "      <td>2</td>\n",
       "    </tr>\n",
       "    <tr>\n",
       "      <th>other - play pump</th>\n",
       "      <td>85</td>\n",
       "    </tr>\n",
       "    <tr>\n",
       "      <th>other - swn 81</th>\n",
       "      <td>229</td>\n",
       "    </tr>\n",
       "    <tr>\n",
       "      <th>walimi</th>\n",
       "      <td>48</td>\n",
       "    </tr>\n",
       "    <tr>\n",
       "      <th>swn 80</th>\n",
       "      <th>swn 80</th>\n",
       "      <td>3670</td>\n",
       "    </tr>\n",
       "    <tr>\n",
       "      <th rowspan=\"3\" valign=\"top\">motorpump</th>\n",
       "      <th>mono</th>\n",
       "      <th>mono</th>\n",
       "      <td>2865</td>\n",
       "    </tr>\n",
       "    <tr>\n",
       "      <th rowspan=\"2\" valign=\"top\">other motorpump</th>\n",
       "      <th>cemo</th>\n",
       "      <td>90</td>\n",
       "    </tr>\n",
       "    <tr>\n",
       "      <th>climax</th>\n",
       "      <td>32</td>\n",
       "    </tr>\n",
       "    <tr>\n",
       "      <th>other</th>\n",
       "      <th>other</th>\n",
       "      <th>other</th>\n",
       "      <td>6430</td>\n",
       "    </tr>\n",
       "    <tr>\n",
       "      <th>rope pump</th>\n",
       "      <th>rope pump</th>\n",
       "      <th>other - rope pump</th>\n",
       "      <td>451</td>\n",
       "    </tr>\n",
       "    <tr>\n",
       "      <th rowspan=\"2\" valign=\"top\">submersible</th>\n",
       "      <th rowspan=\"2\" valign=\"top\">submersible</th>\n",
       "      <th>ksb</th>\n",
       "      <td>1415</td>\n",
       "    </tr>\n",
       "    <tr>\n",
       "      <th>submersible</th>\n",
       "      <td>4764</td>\n",
       "    </tr>\n",
       "    <tr>\n",
       "      <th>wind-powered</th>\n",
       "      <th>wind-powered</th>\n",
       "      <th>windmill</th>\n",
       "      <td>117</td>\n",
       "    </tr>\n",
       "  </tbody>\n",
       "</table>\n",
       "</div>"
      ],
      "text/plain": [
       "                                                                           0\n",
       "extraction_type_class extraction_type_group extraction_type                 \n",
       "gravity               gravity               gravity                    26780\n",
       "handpump              afridev               afridev                     1770\n",
       "                      india mark ii         india mark ii               2400\n",
       "                      india mark iii        india mark iii                98\n",
       "                      nira/tanira           nira/tanira                 8154\n",
       "                      other handpump        other - mkulima/shinyanga      2\n",
       "                                            other - play pump             85\n",
       "                                            other - swn 81               229\n",
       "                                            walimi                        48\n",
       "                      swn 80                swn 80                      3670\n",
       "motorpump             mono                  mono                        2865\n",
       "                      other motorpump       cemo                          90\n",
       "                                            climax                        32\n",
       "other                 other                 other                       6430\n",
       "rope pump             rope pump             other - rope pump            451\n",
       "submersible           submersible           ksb                         1415\n",
       "                                            submersible                 4764\n",
       "wind-powered          wind-powered          windmill                     117"
      ]
     },
     "execution_count": 117,
     "metadata": {},
     "output_type": "execute_result"
    }
   ],
   "source": [
    "# Group the data by the extraction_type, extraction_type_group, and extraction_type_class\n",
    "pd.DataFrame(new_data.groupby(['extraction_type_class', 'extraction_type_group', 'extraction_type']).size())"
   ]
  },
  {
   "cell_type": "markdown",
   "metadata": {},
   "source": [
    "In this case, we shall use the `extraction_type_group`, this is because it is more detailed than the `extraction_type_class` column, and it contains fewer unique values than the `extraction_type` column. Therefore, we are able to balance the curse of dimensionality and the information contained in the column."
   ]
  },
  {
   "cell_type": "code",
   "execution_count": 118,
   "metadata": {},
   "outputs": [],
   "source": [
    "# Drop the extraction_type_class and extraction_type columns\n",
    "new_data = new_data.drop(['extraction_type_class', 'extraction_type'], axis=1)"
   ]
  },
  {
   "cell_type": "markdown",
   "metadata": {},
   "source": [
    "#### 3.1.3 `payment` | `payment_type`\n",
    "\n",
    "The `payment` and `payment_type` columns are both monetary related columns. We shall begin by evaluating their value counts in order to check the similarity of data"
   ]
  },
  {
   "cell_type": "code",
   "execution_count": 119,
   "metadata": {},
   "outputs": [
    {
     "data": {
      "text/plain": [
       "never pay                25348\n",
       "pay per bucket            8985\n",
       "pay monthly               8300\n",
       "unknown                   8157\n",
       "pay when scheme fails     3914\n",
       "pay annually              3642\n",
       "other                     1054\n",
       "Name: payment, dtype: int64"
      ]
     },
     "execution_count": 119,
     "metadata": {},
     "output_type": "execute_result"
    }
   ],
   "source": [
    "# Find the value counts of the 'payment' column\n",
    "data['payment'].value_counts(dropna=False)"
   ]
  },
  {
   "cell_type": "code",
   "execution_count": 120,
   "metadata": {},
   "outputs": [
    {
     "data": {
      "text/plain": [
       "never pay     25348\n",
       "per bucket     8985\n",
       "monthly        8300\n",
       "unknown        8157\n",
       "on failure     3914\n",
       "annually       3642\n",
       "other          1054\n",
       "Name: payment_type, dtype: int64"
      ]
     },
     "execution_count": 120,
     "metadata": {},
     "output_type": "execute_result"
    }
   ],
   "source": [
    "# Find the value counts of the 'payment_type' column\n",
    "data['payment_type'].value_counts(dropna=False)"
   ]
  },
  {
   "cell_type": "markdown",
   "metadata": {},
   "source": [
    "The `payment` and `payment_type` columns are perfectly related. Therefore, we shall drop the `payment` as it is a little bit too wordy compared to the `payment_type` column."
   ]
  },
  {
   "cell_type": "code",
   "execution_count": 121,
   "metadata": {},
   "outputs": [],
   "source": [
    "# Drop the payment column\n",
    "new_data = new_data.drop(['payment'], axis=1)"
   ]
  },
  {
   "cell_type": "markdown",
   "metadata": {},
   "source": [
    "#### 3.1.4 `water_quality` | `quality_group`\n",
    "The `water_quality` and `quality_group` are both related columns that talk about the quality of the water from the well. We shall begin by evaluating their value counts in order to check the similarity of data."
   ]
  },
  {
   "cell_type": "code",
   "execution_count": 122,
   "metadata": {},
   "outputs": [
    {
     "data": {
      "text/plain": [
       "soft                  50818\n",
       "salty                  4856\n",
       "unknown                1876\n",
       "milky                   804\n",
       "coloured                490\n",
       "salty abandoned         339\n",
       "fluoride                200\n",
       "fluoride abandoned       17\n",
       "Name: water_quality, dtype: int64"
      ]
     },
     "execution_count": 122,
     "metadata": {},
     "output_type": "execute_result"
    }
   ],
   "source": [
    "# Find the value counts of the 'water_quality' column\n",
    "data['water_quality'].value_counts(dropna=False)"
   ]
  },
  {
   "cell_type": "code",
   "execution_count": 123,
   "metadata": {},
   "outputs": [
    {
     "data": {
      "text/plain": [
       "good        50818\n",
       "salty        5195\n",
       "unknown      1876\n",
       "milky         804\n",
       "colored       490\n",
       "fluoride      217\n",
       "Name: quality_group, dtype: int64"
      ]
     },
     "execution_count": 123,
     "metadata": {},
     "output_type": "execute_result"
    }
   ],
   "source": [
    "# Find the value counts of the 'quality_group' column\n",
    "data['quality_group'].value_counts(dropna=False)"
   ]
  },
  {
   "cell_type": "markdown",
   "metadata": {},
   "source": [
    "The `water_quality` column contains more unique values than the `quality_group` column. However, the difference is not that big. Therefore, we shall drop the `quality_group` column as it contains less information."
   ]
  },
  {
   "cell_type": "code",
   "execution_count": 124,
   "metadata": {},
   "outputs": [],
   "source": [
    "# Drop the quality_group column\n",
    "new_data = new_data.drop(['quality_group'], axis=1)"
   ]
  },
  {
   "cell_type": "markdown",
   "metadata": {},
   "source": [
    "#### 3.1.5 `quantity` | `quantity_group`\n",
    "The `quantity` and `quantity_group` are both related columns that talk about the quantity of the water from the well. We shall begin by evaluating their value counts in order to check the similarity of data."
   ]
  },
  {
   "cell_type": "code",
   "execution_count": 125,
   "metadata": {},
   "outputs": [
    {
     "data": {
      "text/plain": [
       "enough          33186\n",
       "insufficient    15129\n",
       "dry              6246\n",
       "seasonal         4050\n",
       "unknown           789\n",
       "Name: quantity, dtype: int64"
      ]
     },
     "execution_count": 125,
     "metadata": {},
     "output_type": "execute_result"
    }
   ],
   "source": [
    "# Find the value counts of the 'quantity' column\n",
    "data['quantity'].value_counts(dropna=False)"
   ]
  },
  {
   "cell_type": "code",
   "execution_count": 126,
   "metadata": {},
   "outputs": [
    {
     "data": {
      "text/plain": [
       "enough          33186\n",
       "insufficient    15129\n",
       "dry              6246\n",
       "seasonal         4050\n",
       "unknown           789\n",
       "Name: quantity_group, dtype: int64"
      ]
     },
     "execution_count": 126,
     "metadata": {},
     "output_type": "execute_result"
    }
   ],
   "source": [
    "# Find the value counts of the 'quantity_group' column\n",
    "data['quantity_group'].value_counts(dropna=False)"
   ]
  },
  {
   "cell_type": "markdown",
   "metadata": {},
   "source": [
    "The `quantity` and `quantity_group` columns are perfectly related. Therefore, we can drop either. We shall drop the `quantity_group` column."
   ]
  },
  {
   "cell_type": "code",
   "execution_count": 127,
   "metadata": {},
   "outputs": [],
   "source": [
    "# Drop the quantity_group column\n",
    "new_data = new_data.drop(['quantity_group'], axis=1)"
   ]
  },
  {
   "cell_type": "markdown",
   "metadata": {},
   "source": [
    "#### 3.1.6 `source` | `source_type` | `source_class`\n",
    "The `source`, `source_type`, and `source_class` are all related columns that talk about the source of the water from the well. We shall begin by evaluating their value counts in order to check the similarity of data."
   ]
  },
  {
   "cell_type": "code",
   "execution_count": 128,
   "metadata": {},
   "outputs": [
    {
     "data": {
      "text/plain": [
       "spring                  17021\n",
       "shallow well            16824\n",
       "machine dbh             11075\n",
       "river                    9612\n",
       "rainwater harvesting     2295\n",
       "hand dtw                  874\n",
       "lake                      765\n",
       "dam                       656\n",
       "other                     212\n",
       "unknown                    66\n",
       "Name: source, dtype: int64"
      ]
     },
     "execution_count": 128,
     "metadata": {},
     "output_type": "execute_result"
    }
   ],
   "source": [
    "# Find the value counts of the 'source' column\n",
    "data['source'].value_counts(dropna=False)"
   ]
  },
  {
   "cell_type": "code",
   "execution_count": 129,
   "metadata": {},
   "outputs": [
    {
     "data": {
      "text/plain": [
       "spring                  17021\n",
       "shallow well            16824\n",
       "borehole                11949\n",
       "river/lake              10377\n",
       "rainwater harvesting     2295\n",
       "dam                       656\n",
       "other                     278\n",
       "Name: source_type, dtype: int64"
      ]
     },
     "execution_count": 129,
     "metadata": {},
     "output_type": "execute_result"
    }
   ],
   "source": [
    "# Find the value counts of the 'source_type' column\n",
    "data['source_type'].value_counts(dropna=False)"
   ]
  },
  {
   "cell_type": "code",
   "execution_count": 130,
   "metadata": {},
   "outputs": [
    {
     "data": {
      "text/plain": [
       "groundwater    45794\n",
       "surface        13328\n",
       "unknown          278\n",
       "Name: source_class, dtype: int64"
      ]
     },
     "execution_count": 130,
     "metadata": {},
     "output_type": "execute_result"
    }
   ],
   "source": [
    "# Find the value counts of the 'source_class' column\n",
    "data['source_class'].value_counts(dropna=False)"
   ]
  },
  {
   "cell_type": "markdown",
   "metadata": {},
   "source": [
    "From the value counts, we can see that the `source` column contains more unique values than the `source_type` column, and the `source_type` column contains more unique values than the `source_class` column. We will once again be settling for the `source_type` column as it contains more information than the `source_class` column, and it contains fewer unique values than the `source` column. It allows us to balance the curse of dimensionality and the information contained in the column."
   ]
  },
  {
   "cell_type": "code",
   "execution_count": 131,
   "metadata": {},
   "outputs": [],
   "source": [
    "# Drop the 'source' and 'source_class' columns\n",
    "new_data = new_data.drop(['source', 'source_class'], axis=1)"
   ]
  },
  {
   "cell_type": "markdown",
   "metadata": {},
   "source": [
    "#### 3.1.7 `waterpoint_type` | `waterpoint_type_group`\n",
    "The `waterpoint_type` and `waterpoint_type_group` are both related columns that talk about the type of the waterpoint. We shall begin by evaluating their value counts in order to check the similarity of data."
   ]
  },
  {
   "cell_type": "code",
   "execution_count": 132,
   "metadata": {},
   "outputs": [
    {
     "data": {
      "text/plain": [
       "communal standpipe             28522\n",
       "hand pump                      17488\n",
       "other                           6380\n",
       "communal standpipe multiple     6103\n",
       "improved spring                  784\n",
       "cattle trough                    116\n",
       "dam                                7\n",
       "Name: waterpoint_type, dtype: int64"
      ]
     },
     "execution_count": 132,
     "metadata": {},
     "output_type": "execute_result"
    }
   ],
   "source": [
    "# Find the value counts of the 'waterpoint_type' column\n",
    "data['waterpoint_type'].value_counts(dropna=False)"
   ]
  },
  {
   "cell_type": "code",
   "execution_count": 133,
   "metadata": {},
   "outputs": [
    {
     "data": {
      "text/plain": [
       "communal standpipe    34625\n",
       "hand pump             17488\n",
       "other                  6380\n",
       "improved spring         784\n",
       "cattle trough           116\n",
       "dam                       7\n",
       "Name: waterpoint_type_group, dtype: int64"
      ]
     },
     "execution_count": 133,
     "metadata": {},
     "output_type": "execute_result"
    }
   ],
   "source": [
    "# Find the value counts of the 'waterpoint_type_group' column\n",
    "data['waterpoint_type_group'].value_counts(dropna=False)"
   ]
  },
  {
   "cell_type": "markdown",
   "metadata": {},
   "source": [
    "From the value counts, we can see that the `waterpoint_type` column contains more unique values than the `waterpoint_type_group`. Therefore, we keep the `waterpoint_type` column as it contains more detail than the `waterpoint_type_group` column."
   ]
  },
  {
   "cell_type": "code",
   "execution_count": 134,
   "metadata": {},
   "outputs": [],
   "source": [
    "# Drop the waterpoint_type_group column\n",
    "new_data = new_data.drop(['waterpoint_type_group'], axis=1)"
   ]
  },
  {
   "cell_type": "markdown",
   "metadata": {},
   "source": [
    "The data selection will be influenced by the objectives and research questions stipulated in the business understanding phase\n",
    "\n",
    "**Numerical Columns**\n",
    "\n",
    "- `gps_height`\n",
    "- `population`\n",
    "- `amount_tsh`\n",
    "\n",
    "**Categorical Columns**\n",
    "\n",
    "- `funder`\n",
    "- `installer`\n",
    "- `basin`\n",
    "- `subvillage`\n",
    "- `region`\n",
    "- `lga`\n",
    "- `ward`\n",
    "- `scheme_management`\n",
    "- `permit`\n",
    "- `construction_year`\n",
    "- `extraction_type_class`\n",
    "- `payment_type`\n",
    "- `management_group`\n",
    "- `quality_group`\n",
    "- `quantity`\n",
    "- `source_type`\n",
    "- `waterpoint_type_group`\n",
    "- `status_group`"
   ]
  },
  {
   "cell_type": "code",
   "execution_count": 135,
   "metadata": {},
   "outputs": [
    {
     "data": {
      "text/html": [
       "<div>\n",
       "<style scoped>\n",
       "    .dataframe tbody tr th:only-of-type {\n",
       "        vertical-align: middle;\n",
       "    }\n",
       "\n",
       "    .dataframe tbody tr th {\n",
       "        vertical-align: top;\n",
       "    }\n",
       "\n",
       "    .dataframe thead th {\n",
       "        text-align: right;\n",
       "    }\n",
       "</style>\n",
       "<table border=\"1\" class=\"dataframe\">\n",
       "  <thead>\n",
       "    <tr style=\"text-align: right;\">\n",
       "      <th></th>\n",
       "      <th>amount_tsh</th>\n",
       "      <th>gps_height</th>\n",
       "      <th>population</th>\n",
       "      <th>funder</th>\n",
       "      <th>installer</th>\n",
       "      <th>basin</th>\n",
       "      <th>subvillage</th>\n",
       "      <th>region</th>\n",
       "      <th>lga</th>\n",
       "      <th>ward</th>\n",
       "      <th>scheme_management</th>\n",
       "      <th>permit</th>\n",
       "      <th>date_recorded</th>\n",
       "      <th>construction_year</th>\n",
       "      <th>extraction_type_class</th>\n",
       "      <th>payment_type</th>\n",
       "      <th>management_group</th>\n",
       "      <th>quality_group</th>\n",
       "      <th>quantity</th>\n",
       "      <th>source_type</th>\n",
       "      <th>waterpoint_type_group</th>\n",
       "      <th>status_group</th>\n",
       "    </tr>\n",
       "  </thead>\n",
       "  <tbody>\n",
       "    <tr>\n",
       "      <th>0</th>\n",
       "      <td>6000.0</td>\n",
       "      <td>1390</td>\n",
       "      <td>109</td>\n",
       "      <td>Roman</td>\n",
       "      <td>Roman</td>\n",
       "      <td>Lake Nyasa</td>\n",
       "      <td>Mnyusi B</td>\n",
       "      <td>Iringa</td>\n",
       "      <td>Ludewa</td>\n",
       "      <td>Mundindi</td>\n",
       "      <td>VWC</td>\n",
       "      <td>False</td>\n",
       "      <td>2011-03-14</td>\n",
       "      <td>1999</td>\n",
       "      <td>gravity</td>\n",
       "      <td>annually</td>\n",
       "      <td>user-group</td>\n",
       "      <td>good</td>\n",
       "      <td>enough</td>\n",
       "      <td>spring</td>\n",
       "      <td>communal standpipe</td>\n",
       "      <td>functional</td>\n",
       "    </tr>\n",
       "    <tr>\n",
       "      <th>1</th>\n",
       "      <td>0.0</td>\n",
       "      <td>1399</td>\n",
       "      <td>280</td>\n",
       "      <td>Grumeti</td>\n",
       "      <td>GRUMETI</td>\n",
       "      <td>Lake Victoria</td>\n",
       "      <td>Nyamara</td>\n",
       "      <td>Mara</td>\n",
       "      <td>Serengeti</td>\n",
       "      <td>Natta</td>\n",
       "      <td>Other</td>\n",
       "      <td>True</td>\n",
       "      <td>2013-03-06</td>\n",
       "      <td>2010</td>\n",
       "      <td>gravity</td>\n",
       "      <td>never pay</td>\n",
       "      <td>user-group</td>\n",
       "      <td>good</td>\n",
       "      <td>insufficient</td>\n",
       "      <td>rainwater harvesting</td>\n",
       "      <td>communal standpipe</td>\n",
       "      <td>functional</td>\n",
       "    </tr>\n",
       "    <tr>\n",
       "      <th>2</th>\n",
       "      <td>25.0</td>\n",
       "      <td>686</td>\n",
       "      <td>250</td>\n",
       "      <td>Lottery Club</td>\n",
       "      <td>World vision</td>\n",
       "      <td>Pangani</td>\n",
       "      <td>Majengo</td>\n",
       "      <td>Manyara</td>\n",
       "      <td>Simanjiro</td>\n",
       "      <td>Ngorika</td>\n",
       "      <td>VWC</td>\n",
       "      <td>True</td>\n",
       "      <td>2013-02-25</td>\n",
       "      <td>2009</td>\n",
       "      <td>gravity</td>\n",
       "      <td>per bucket</td>\n",
       "      <td>user-group</td>\n",
       "      <td>good</td>\n",
       "      <td>enough</td>\n",
       "      <td>dam</td>\n",
       "      <td>communal standpipe</td>\n",
       "      <td>functional</td>\n",
       "    </tr>\n",
       "    <tr>\n",
       "      <th>3</th>\n",
       "      <td>0.0</td>\n",
       "      <td>263</td>\n",
       "      <td>58</td>\n",
       "      <td>Unicef</td>\n",
       "      <td>UNICEF</td>\n",
       "      <td>Ruvuma / Southern Coast</td>\n",
       "      <td>Mahakamani</td>\n",
       "      <td>Mtwara</td>\n",
       "      <td>Nanyumbu</td>\n",
       "      <td>Nanyumbu</td>\n",
       "      <td>VWC</td>\n",
       "      <td>True</td>\n",
       "      <td>2013-01-28</td>\n",
       "      <td>1986</td>\n",
       "      <td>submersible</td>\n",
       "      <td>never pay</td>\n",
       "      <td>user-group</td>\n",
       "      <td>good</td>\n",
       "      <td>dry</td>\n",
       "      <td>borehole</td>\n",
       "      <td>communal standpipe</td>\n",
       "      <td>non functional</td>\n",
       "    </tr>\n",
       "    <tr>\n",
       "      <th>4</th>\n",
       "      <td>0.0</td>\n",
       "      <td>0</td>\n",
       "      <td>0</td>\n",
       "      <td>Action In A</td>\n",
       "      <td>Artisan</td>\n",
       "      <td>Lake Victoria</td>\n",
       "      <td>Kyanyamisa</td>\n",
       "      <td>Kagera</td>\n",
       "      <td>Karagwe</td>\n",
       "      <td>Nyakasimbi</td>\n",
       "      <td>NaN</td>\n",
       "      <td>True</td>\n",
       "      <td>2011-07-13</td>\n",
       "      <td>0</td>\n",
       "      <td>gravity</td>\n",
       "      <td>never pay</td>\n",
       "      <td>other</td>\n",
       "      <td>good</td>\n",
       "      <td>seasonal</td>\n",
       "      <td>rainwater harvesting</td>\n",
       "      <td>communal standpipe</td>\n",
       "      <td>functional</td>\n",
       "    </tr>\n",
       "  </tbody>\n",
       "</table>\n",
       "</div>"
      ],
      "text/plain": [
       "   amount_tsh  gps_height  population        funder     installer  \\\n",
       "0      6000.0        1390         109         Roman         Roman   \n",
       "1         0.0        1399         280       Grumeti       GRUMETI   \n",
       "2        25.0         686         250  Lottery Club  World vision   \n",
       "3         0.0         263          58        Unicef        UNICEF   \n",
       "4         0.0           0           0   Action In A       Artisan   \n",
       "\n",
       "                     basin  subvillage   region        lga        ward  \\\n",
       "0               Lake Nyasa    Mnyusi B   Iringa     Ludewa    Mundindi   \n",
       "1            Lake Victoria     Nyamara     Mara  Serengeti       Natta   \n",
       "2                  Pangani     Majengo  Manyara  Simanjiro     Ngorika   \n",
       "3  Ruvuma / Southern Coast  Mahakamani   Mtwara   Nanyumbu    Nanyumbu   \n",
       "4            Lake Victoria  Kyanyamisa   Kagera    Karagwe  Nyakasimbi   \n",
       "\n",
       "  scheme_management permit date_recorded  construction_year  \\\n",
       "0               VWC  False    2011-03-14               1999   \n",
       "1             Other   True    2013-03-06               2010   \n",
       "2               VWC   True    2013-02-25               2009   \n",
       "3               VWC   True    2013-01-28               1986   \n",
       "4               NaN   True    2011-07-13                  0   \n",
       "\n",
       "  extraction_type_class payment_type management_group quality_group  \\\n",
       "0               gravity     annually       user-group          good   \n",
       "1               gravity    never pay       user-group          good   \n",
       "2               gravity   per bucket       user-group          good   \n",
       "3           submersible    never pay       user-group          good   \n",
       "4               gravity    never pay            other          good   \n",
       "\n",
       "       quantity           source_type waterpoint_type_group    status_group  \n",
       "0        enough                spring    communal standpipe      functional  \n",
       "1  insufficient  rainwater harvesting    communal standpipe      functional  \n",
       "2        enough                   dam    communal standpipe      functional  \n",
       "3           dry              borehole    communal standpipe  non functional  \n",
       "4      seasonal  rainwater harvesting    communal standpipe      functional  "
      ]
     },
     "execution_count": 135,
     "metadata": {},
     "output_type": "execute_result"
    }
   ],
   "source": [
    "# Create a new dataset\n",
    "new_data = data.loc[:, ['amount_tsh','gps_height', 'population', 'funder', 'installer', 'basin', 'subvillage', 'region', 'lga', 'ward', 'scheme_management', 'permit', 'date_recorded', 'construction_year', 'extraction_type_class', 'payment_type', 'management_group', 'quality_group', 'quantity', 'source_type', 'waterpoint_type_group', 'status_group']]\n",
    "\n",
    "new_data.reset_index(drop=True, inplace=True)\n",
    "# Preview the new dataset\n",
    "new_data.head()"
   ]
  },
  {
   "cell_type": "markdown",
   "metadata": {},
   "source": [
    "### 3.2 Clean Data\n",
    "> In this section, we will be looking at the missing values in the dataset as well as the duplicate records in the dataset."
   ]
  },
  {
   "cell_type": "markdown",
   "metadata": {},
   "source": [
    "#### 3.2.1 Completeness\n",
    "> We will be considering the completeness of the dataset in this section. In this section, we will be looking at the missing values in the dataset."
   ]
  },
  {
   "cell_type": "code",
   "execution_count": 136,
   "metadata": {},
   "outputs": [
    {
     "data": {
      "image/png": "[encoded data removed]",
      "text/plain": [
       "<Figure size 1080x360 with 3 Axes>"
      ]
     },
     "metadata": {},
     "output_type": "display_data"
    }
   ],
   "source": [
    "# We shall visualise the missing values in the new dataset\n",
    "msno.bar(new_data, figsize=(15, 5), color='#037bfc', fontsize=12)\n",
    "plt.title(\"Missing Data Visualisation\")\n",
    "plt.xticks(rotation = 90);"
   ]
  },
  {
   "cell_type": "markdown",
   "metadata": {},
   "source": [
    "From the visualisation above, we have identified the following columns to contain missing data:\n",
    "- `funder`\n",
    "- `installer`\n",
    "- `subvillage`\n",
    "- `scheme_management`\n",
    "- `permit`\n",
    "\n",
    ">[ ] Are the missing values random? Missing value research is needed"
   ]
  },
  {
   "cell_type": "markdown",
   "metadata": {},
   "source": [
    "We will be writing a function that calculates the missing values within the dataset. The function will output the total number of missing values, as well as the percentage that the missing values account for."
   ]
  },
  {
   "cell_type": "code",
   "execution_count": 137,
   "metadata": {},
   "outputs": [],
   "source": [
    "def missing_values(df, col):\n",
    "    \"\"\"\n",
    "    This function evaluates the total number of missing values in a column and\n",
    "    the respective percentages\n",
    "    \"\"\"\n",
    "    print(f\"Missing Values: {df[col].isna().sum()}\")\n",
    "    print(f\"Percentage: {round((df[col].isna().sum() / len(df)) * 100, 2)}%\")"
   ]
  },
  {
   "cell_type": "markdown",
   "metadata": {},
   "source": [
    "##### 3.2.1.1 `funder`"
   ]
  },
  {
   "cell_type": "code",
   "execution_count": 138,
   "metadata": {},
   "outputs": [
    {
     "name": "stdout",
     "output_type": "stream",
     "text": [
      "Missing Values: 3635\n",
      "Percentage: 6.12%\n"
     ]
    }
   ],
   "source": [
    "# Evaluate the missing values in the funder column\n",
    "missing_values(new_data, 'funder')"
   ]
  },
  {
   "cell_type": "markdown",
   "metadata": {},
   "source": [
    "The missing values in the `funder` column account for 6.12% of the values in the dataset. Furthermore, this is information that cannot be accessed online. Therefore, we will be dropping the missing values in this column."
   ]
  },
  {
   "cell_type": "code",
   "execution_count": 139,
   "metadata": {},
   "outputs": [
    {
     "name": "stdout",
     "output_type": "stream",
     "text": [
      "(55765, 22)\n"
     ]
    },
    {
     "data": {
      "text/plain": [
       "Government Of Tanzania    9084\n",
       "Danida                    3114\n",
       "Hesawa                    2202\n",
       "Rwssp                     1374\n",
       "World Bank                1349\n",
       "                          ... \n",
       "Town Council                 1\n",
       "Care/dwe                     1\n",
       "Health  Ministry             1\n",
       "Wards                        1\n",
       "Bukwang Church Saints        1\n",
       "Name: funder, Length: 1897, dtype: int64"
      ]
     },
     "execution_count": 139,
     "metadata": {},
     "output_type": "execute_result"
    }
   ],
   "source": [
    "# Drop the missing values\n",
    "new_data.dropna(axis=0, subset=['funder'], inplace=True)\n",
    "\n",
    "# New shape of the dataframe\n",
    "print(new_data.shape)\n",
    "\n",
    "# Check the value counts\n",
    "new_data['funder'].value_counts(dropna=False)"
   ]
  },
  {
   "cell_type": "markdown",
   "metadata": {},
   "source": [
    "##### 3.2.1.2 `installer`"
   ]
  },
  {
   "cell_type": "code",
   "execution_count": 140,
   "metadata": {},
   "outputs": [
    {
     "name": "stdout",
     "output_type": "stream",
     "text": [
      "Missing Values: 73\n",
      "Percentage: 0.13%\n"
     ]
    }
   ],
   "source": [
    "# Evaluate the missing values in the installer column\n",
    "missing_values(new_data, 'installer')"
   ]
  },
  {
   "cell_type": "markdown",
   "metadata": {},
   "source": [
    "The `installer` column only contains 73 missing values, this accounts for 0.13% of the total data. This is a very small percentage of the total data. Therefore, we can drop the records containing missing `installer` values."
   ]
  },
  {
   "cell_type": "code",
   "execution_count": 141,
   "metadata": {},
   "outputs": [
    {
     "name": "stdout",
     "output_type": "stream",
     "text": [
      "(55692, 22)\n"
     ]
    },
    {
     "data": {
      "text/plain": [
       "DWE           17390\n",
       "Government     1825\n",
       "RWE            1206\n",
       "Commu          1060\n",
       "DANIDA         1050\n",
       "              ...  \n",
       "Pentecosta        1\n",
       "Bao               1\n",
       "Makoye            1\n",
       "Kapelo            1\n",
       "DWE & LWI         1\n",
       "Name: installer, Length: 2139, dtype: int64"
      ]
     },
     "execution_count": 141,
     "metadata": {},
     "output_type": "execute_result"
    }
   ],
   "source": [
    "# Drop the missing values\n",
    "new_data.dropna(axis=0, subset=['installer'], inplace=True)\n",
    "\n",
    "# New shape of the dataframe\n",
    "print(new_data.shape)\n",
    "\n",
    "# Check the value counts\n",
    "new_data['installer'].value_counts(dropna=False)"
   ]
  },
  {
   "cell_type": "markdown",
   "metadata": {},
   "source": [
    "##### 3.2.1.3 `subvillage`"
   ]
  },
  {
   "cell_type": "code",
   "execution_count": 142,
   "metadata": {},
   "outputs": [
    {
     "name": "stdout",
     "output_type": "stream",
     "text": [
      "Missing Values: 371\n",
      "Percentage: 0.67%\n"
     ]
    }
   ],
   "source": [
    "# Evaluate the missing values in the subvillage column\n",
    "missing_values(new_data, 'subvillage')"
   ]
  },
  {
   "cell_type": "markdown",
   "metadata": {},
   "source": [
    "The subvillage column has 371 missing values. This accounts for 0.67% of the total data. Therefore, we can drop the missing values"
   ]
  },
  {
   "cell_type": "code",
   "execution_count": 143,
   "metadata": {},
   "outputs": [
    {
     "name": "stdout",
     "output_type": "stream",
     "text": [
      "(55321, 22)\n"
     ]
    },
    {
     "data": {
      "text/plain": [
       "Shuleni         485\n",
       "Madukani        484\n",
       "Majengo         478\n",
       "Kati            366\n",
       "Mtakuja         252\n",
       "               ... \n",
       "Buyanja           1\n",
       "Mangoma           1\n",
       "Kisamuni          1\n",
       "Nangali           1\n",
       "Nyankunchi C      1\n",
       "Name: subvillage, Length: 18285, dtype: int64"
      ]
     },
     "execution_count": 143,
     "metadata": {},
     "output_type": "execute_result"
    }
   ],
   "source": [
    "# Drop the missing values\n",
    "new_data.dropna(axis=0, subset=['subvillage'], inplace=True)\n",
    "\n",
    "# New shape of the dataframe\n",
    "print(new_data.shape)\n",
    "\n",
    "# Check the value counts\n",
    "new_data['subvillage'].value_counts(dropna=False)"
   ]
  },
  {
   "cell_type": "markdown",
   "metadata": {},
   "source": [
    "##### 3.2.1.4 `scheme_management`"
   ]
  },
  {
   "cell_type": "code",
   "execution_count": 144,
   "metadata": {},
   "outputs": [
    {
     "name": "stdout",
     "output_type": "stream",
     "text": [
      "Missing Values: 3804\n",
      "Percentage: 6.88%\n"
     ]
    }
   ],
   "source": [
    "# Evaluate the missing values in the scheme_management column\n",
    "missing_values(new_data, 'scheme_management')"
   ]
  },
  {
   "cell_type": "markdown",
   "metadata": {},
   "source": [
    "There are 3804 missing values in the scheme_management column. We can also see that there is a 'None' value, therefore, we shall be converting the missing values to 'None'."
   ]
  },
  {
   "cell_type": "code",
   "execution_count": 145,
   "metadata": {},
   "outputs": [
    {
     "data": {
      "text/plain": [
       "VWC                 33565\n",
       "WUG                  5164\n",
       "None                 3805\n",
       "Water authority      3061\n",
       "WUA                  2656\n",
       "Water Board          2530\n",
       "Parastatal           1527\n",
       "Private operator     1051\n",
       "Company              1039\n",
       "Other                 754\n",
       "SWC                    97\n",
       "Trust                  72\n",
       "Name: scheme_management, dtype: int64"
      ]
     },
     "execution_count": 145,
     "metadata": {},
     "output_type": "execute_result"
    }
   ],
   "source": [
    "# Replace the missing values with 'None\n",
    "new_data['scheme_management'] = new_data['scheme_management'].replace(np.nan, 'None')\n",
    "\n",
    "# Check the value counts\n",
    "new_data['scheme_management'].value_counts(dropna=False)"
   ]
  },
  {
   "cell_type": "markdown",
   "metadata": {},
   "source": [
    "##### 3.2.1.5 `permit`"
   ]
  },
  {
   "cell_type": "code",
   "execution_count": 146,
   "metadata": {},
   "outputs": [
    {
     "name": "stdout",
     "output_type": "stream",
     "text": [
      "Missing Values: 632\n",
      "Percentage: 1.14%\n"
     ]
    }
   ],
   "source": [
    "# Evaluate the missing values in the permit column\n",
    "missing_values(new_data, 'permit')"
   ]
  },
  {
   "cell_type": "markdown",
   "metadata": {},
   "source": [
    "There are 632 missing values in the `permit` column. We will be dropping the missing values as they only account for 1.14% of all the data in the column."
   ]
  },
  {
   "cell_type": "code",
   "execution_count": 147,
   "metadata": {},
   "outputs": [
    {
     "name": "stdout",
     "output_type": "stream",
     "text": [
      "(54689, 22)\n"
     ]
    },
    {
     "data": {
      "text/plain": [
       "True     38104\n",
       "False    16585\n",
       "Name: permit, dtype: int64"
      ]
     },
     "execution_count": 147,
     "metadata": {},
     "output_type": "execute_result"
    }
   ],
   "source": [
    "# Drop the missing values\n",
    "new_data.dropna(axis=0, subset=['permit'], inplace=True)\n",
    "\n",
    "# New shape of the dataframe\n",
    "print(new_data.shape)\n",
    "\n",
    "# Check the value counts\n",
    "new_data['permit'].value_counts(dropna=False)"
   ]
  },
  {
   "cell_type": "code",
   "execution_count": 148,
   "metadata": {},
   "outputs": [
    {
     "data": {
      "image/png": "[encoded data removed]",
      "text/plain": [
       "<Figure size 1080x360 with 3 Axes>"
      ]
     },
     "metadata": {},
     "output_type": "display_data"
    }
   ],
   "source": [
    "# We shall visualise the missing values in the new dataset\n",
    "msno.bar(new_data, figsize=(15, 5), color='#037bfc', fontsize=12)\n",
    "plt.title(\"Missing Data Visualisation\")\n",
    "plt.xticks(rotation = 90);"
   ]
  },
  {
   "cell_type": "markdown",
   "metadata": {},
   "source": [
    "We can confirm that our data does not contain more missing values and we can move on to observing the duplicated data."
   ]
  },
  {
   "cell_type": "markdown",
   "metadata": {},
   "source": [
    "#### 3.2.2 Validity\n",
    "> In this section, we will be looking at the validity of the data. We will be looking at the following:\n",
    ">  - Duplicated Data\n",
    ">  - Outliers"
   ]
  },
  {
   "cell_type": "markdown",
   "metadata": {},
   "source": [
    "##### 3.2.2.1 Duplicated Data\n",
    "> Duplicated data refers to data that has been imputted more than once. Duplicated data does not always mean that the data is invalid. However, it is important to note that duplicated data can lead to overfitting of the model."
   ]
  },
  {
   "cell_type": "code",
   "execution_count": 149,
   "metadata": {},
   "outputs": [
    {
     "data": {
      "text/html": [
       "<div>\n",
       "<style scoped>\n",
       "    .dataframe tbody tr th:only-of-type {\n",
       "        vertical-align: middle;\n",
       "    }\n",
       "\n",
       "    .dataframe tbody tr th {\n",
       "        vertical-align: top;\n",
       "    }\n",
       "\n",
       "    .dataframe thead th {\n",
       "        text-align: right;\n",
       "    }\n",
       "</style>\n",
       "<table border=\"1\" class=\"dataframe\">\n",
       "  <thead>\n",
       "    <tr style=\"text-align: right;\">\n",
       "      <th></th>\n",
       "      <th>amount_tsh</th>\n",
       "      <th>gps_height</th>\n",
       "      <th>population</th>\n",
       "      <th>funder</th>\n",
       "      <th>installer</th>\n",
       "      <th>basin</th>\n",
       "      <th>subvillage</th>\n",
       "      <th>region</th>\n",
       "      <th>lga</th>\n",
       "      <th>ward</th>\n",
       "      <th>scheme_management</th>\n",
       "      <th>permit</th>\n",
       "      <th>date_recorded</th>\n",
       "      <th>construction_year</th>\n",
       "      <th>extraction_type_class</th>\n",
       "      <th>payment_type</th>\n",
       "      <th>management_group</th>\n",
       "      <th>quality_group</th>\n",
       "      <th>quantity</th>\n",
       "      <th>source_type</th>\n",
       "      <th>waterpoint_type_group</th>\n",
       "      <th>status_group</th>\n",
       "    </tr>\n",
       "  </thead>\n",
       "  <tbody>\n",
       "    <tr>\n",
       "      <th>370</th>\n",
       "      <td>0.0</td>\n",
       "      <td>0</td>\n",
       "      <td>0</td>\n",
       "      <td>Government Of Tanzania</td>\n",
       "      <td>Government</td>\n",
       "      <td>Lake Victoria</td>\n",
       "      <td>Nyanza</td>\n",
       "      <td>Mwanza</td>\n",
       "      <td>Geita</td>\n",
       "      <td>Kalangalala</td>\n",
       "      <td>VWC</td>\n",
       "      <td>True</td>\n",
       "      <td>2011-07-18</td>\n",
       "      <td>0</td>\n",
       "      <td>submersible</td>\n",
       "      <td>never pay</td>\n",
       "      <td>user-group</td>\n",
       "      <td>good</td>\n",
       "      <td>insufficient</td>\n",
       "      <td>borehole</td>\n",
       "      <td>communal standpipe</td>\n",
       "      <td>functional</td>\n",
       "    </tr>\n",
       "    <tr>\n",
       "      <th>1005</th>\n",
       "      <td>0.0</td>\n",
       "      <td>0</td>\n",
       "      <td>0</td>\n",
       "      <td>Kkkt_makwale</td>\n",
       "      <td>KKKT _ Konde and DWE</td>\n",
       "      <td>Lake Nyasa</td>\n",
       "      <td>Isimba</td>\n",
       "      <td>Mbeya</td>\n",
       "      <td>Kyela</td>\n",
       "      <td>Makwale</td>\n",
       "      <td>VWC</td>\n",
       "      <td>True</td>\n",
       "      <td>2011-07-31</td>\n",
       "      <td>0</td>\n",
       "      <td>gravity</td>\n",
       "      <td>never pay</td>\n",
       "      <td>user-group</td>\n",
       "      <td>good</td>\n",
       "      <td>enough</td>\n",
       "      <td>spring</td>\n",
       "      <td>communal standpipe</td>\n",
       "      <td>functional</td>\n",
       "    </tr>\n",
       "    <tr>\n",
       "      <th>1748</th>\n",
       "      <td>0.0</td>\n",
       "      <td>0</td>\n",
       "      <td>0</td>\n",
       "      <td>Danida</td>\n",
       "      <td>Central government</td>\n",
       "      <td>Lake Nyasa</td>\n",
       "      <td>Malungo</td>\n",
       "      <td>Mbeya</td>\n",
       "      <td>Kyela</td>\n",
       "      <td>Mwaya</td>\n",
       "      <td>VWC</td>\n",
       "      <td>True</td>\n",
       "      <td>2011-07-23</td>\n",
       "      <td>0</td>\n",
       "      <td>gravity</td>\n",
       "      <td>never pay</td>\n",
       "      <td>user-group</td>\n",
       "      <td>good</td>\n",
       "      <td>dry</td>\n",
       "      <td>spring</td>\n",
       "      <td>communal standpipe</td>\n",
       "      <td>non functional</td>\n",
       "    </tr>\n",
       "    <tr>\n",
       "      <th>1963</th>\n",
       "      <td>0.0</td>\n",
       "      <td>0</td>\n",
       "      <td>0</td>\n",
       "      <td>Kkkt_makwale</td>\n",
       "      <td>KKKT _ Konde and DWE</td>\n",
       "      <td>Lake Nyasa</td>\n",
       "      <td>Isimba</td>\n",
       "      <td>Mbeya</td>\n",
       "      <td>Kyela</td>\n",
       "      <td>Makwale</td>\n",
       "      <td>VWC</td>\n",
       "      <td>True</td>\n",
       "      <td>2011-07-31</td>\n",
       "      <td>0</td>\n",
       "      <td>gravity</td>\n",
       "      <td>never pay</td>\n",
       "      <td>user-group</td>\n",
       "      <td>good</td>\n",
       "      <td>enough</td>\n",
       "      <td>spring</td>\n",
       "      <td>communal standpipe</td>\n",
       "      <td>functional</td>\n",
       "    </tr>\n",
       "    <tr>\n",
       "      <th>2580</th>\n",
       "      <td>0.0</td>\n",
       "      <td>0</td>\n",
       "      <td>0</td>\n",
       "      <td>Rc Church</td>\n",
       "      <td>RC Church</td>\n",
       "      <td>Lake Nyasa</td>\n",
       "      <td>Matwalani</td>\n",
       "      <td>Mbeya</td>\n",
       "      <td>Mbeya Rural</td>\n",
       "      <td>Ulenje</td>\n",
       "      <td>VWC</td>\n",
       "      <td>False</td>\n",
       "      <td>2011-04-12</td>\n",
       "      <td>0</td>\n",
       "      <td>gravity</td>\n",
       "      <td>on failure</td>\n",
       "      <td>user-group</td>\n",
       "      <td>good</td>\n",
       "      <td>enough</td>\n",
       "      <td>river/lake</td>\n",
       "      <td>communal standpipe</td>\n",
       "      <td>non functional</td>\n",
       "    </tr>\n",
       "    <tr>\n",
       "      <th>...</th>\n",
       "      <td>...</td>\n",
       "      <td>...</td>\n",
       "      <td>...</td>\n",
       "      <td>...</td>\n",
       "      <td>...</td>\n",
       "      <td>...</td>\n",
       "      <td>...</td>\n",
       "      <td>...</td>\n",
       "      <td>...</td>\n",
       "      <td>...</td>\n",
       "      <td>...</td>\n",
       "      <td>...</td>\n",
       "      <td>...</td>\n",
       "      <td>...</td>\n",
       "      <td>...</td>\n",
       "      <td>...</td>\n",
       "      <td>...</td>\n",
       "      <td>...</td>\n",
       "      <td>...</td>\n",
       "      <td>...</td>\n",
       "      <td>...</td>\n",
       "      <td>...</td>\n",
       "    </tr>\n",
       "    <tr>\n",
       "      <th>59354</th>\n",
       "      <td>0.0</td>\n",
       "      <td>0</td>\n",
       "      <td>0</td>\n",
       "      <td>Md</td>\n",
       "      <td>DW</td>\n",
       "      <td>Lake Victoria</td>\n",
       "      <td>Kishoju 1</td>\n",
       "      <td>Kagera</td>\n",
       "      <td>Muleba</td>\n",
       "      <td>Nshamba</td>\n",
       "      <td>VWC</td>\n",
       "      <td>True</td>\n",
       "      <td>2011-07-26</td>\n",
       "      <td>0</td>\n",
       "      <td>submersible</td>\n",
       "      <td>never pay</td>\n",
       "      <td>user-group</td>\n",
       "      <td>good</td>\n",
       "      <td>enough</td>\n",
       "      <td>spring</td>\n",
       "      <td>communal standpipe</td>\n",
       "      <td>non functional</td>\n",
       "    </tr>\n",
       "    <tr>\n",
       "      <th>59359</th>\n",
       "      <td>0.0</td>\n",
       "      <td>0</td>\n",
       "      <td>0</td>\n",
       "      <td>Hesawa</td>\n",
       "      <td>HESAWA</td>\n",
       "      <td>Lake Victoria</td>\n",
       "      <td>Mishenye</td>\n",
       "      <td>Kagera</td>\n",
       "      <td>Bukoba Rural</td>\n",
       "      <td>Buterankuzi</td>\n",
       "      <td>VWC</td>\n",
       "      <td>True</td>\n",
       "      <td>2011-07-12</td>\n",
       "      <td>0</td>\n",
       "      <td>gravity</td>\n",
       "      <td>monthly</td>\n",
       "      <td>user-group</td>\n",
       "      <td>good</td>\n",
       "      <td>enough</td>\n",
       "      <td>river/lake</td>\n",
       "      <td>communal standpipe</td>\n",
       "      <td>functional</td>\n",
       "    </tr>\n",
       "    <tr>\n",
       "      <th>59369</th>\n",
       "      <td>0.0</td>\n",
       "      <td>0</td>\n",
       "      <td>0</td>\n",
       "      <td>Rc Church</td>\n",
       "      <td>RC Church</td>\n",
       "      <td>Lake Nyasa</td>\n",
       "      <td>Mjimwema</td>\n",
       "      <td>Mbeya</td>\n",
       "      <td>Mbeya Rural</td>\n",
       "      <td>Ulenje</td>\n",
       "      <td>VWC</td>\n",
       "      <td>False</td>\n",
       "      <td>2011-04-12</td>\n",
       "      <td>0</td>\n",
       "      <td>gravity</td>\n",
       "      <td>on failure</td>\n",
       "      <td>user-group</td>\n",
       "      <td>good</td>\n",
       "      <td>enough</td>\n",
       "      <td>river/lake</td>\n",
       "      <td>communal standpipe</td>\n",
       "      <td>functional</td>\n",
       "    </tr>\n",
       "    <tr>\n",
       "      <th>59379</th>\n",
       "      <td>0.0</td>\n",
       "      <td>0</td>\n",
       "      <td>0</td>\n",
       "      <td>Do</td>\n",
       "      <td>DO</td>\n",
       "      <td>Lake Victoria</td>\n",
       "      <td>Kaluyango</td>\n",
       "      <td>Kagera</td>\n",
       "      <td>Muleba</td>\n",
       "      <td>Ikondo</td>\n",
       "      <td>VWC</td>\n",
       "      <td>True</td>\n",
       "      <td>2011-07-13</td>\n",
       "      <td>0</td>\n",
       "      <td>gravity</td>\n",
       "      <td>never pay</td>\n",
       "      <td>user-group</td>\n",
       "      <td>good</td>\n",
       "      <td>enough</td>\n",
       "      <td>spring</td>\n",
       "      <td>communal standpipe</td>\n",
       "      <td>functional</td>\n",
       "    </tr>\n",
       "    <tr>\n",
       "      <th>59392</th>\n",
       "      <td>0.0</td>\n",
       "      <td>0</td>\n",
       "      <td>0</td>\n",
       "      <td>Government Of Tanzania</td>\n",
       "      <td>Government</td>\n",
       "      <td>Lake Rukwa</td>\n",
       "      <td>Mbuyuni A</td>\n",
       "      <td>Mbeya</td>\n",
       "      <td>Chunya</td>\n",
       "      <td>Mbuyuni</td>\n",
       "      <td>VWC</td>\n",
       "      <td>True</td>\n",
       "      <td>2011-04-15</td>\n",
       "      <td>0</td>\n",
       "      <td>gravity</td>\n",
       "      <td>never pay</td>\n",
       "      <td>user-group</td>\n",
       "      <td>good</td>\n",
       "      <td>enough</td>\n",
       "      <td>spring</td>\n",
       "      <td>communal standpipe</td>\n",
       "      <td>non functional</td>\n",
       "    </tr>\n",
       "  </tbody>\n",
       "</table>\n",
       "<p>2772 rows × 22 columns</p>\n",
       "</div>"
      ],
      "text/plain": [
       "       amount_tsh  gps_height  population                  funder  \\\n",
       "370           0.0           0           0  Government Of Tanzania   \n",
       "1005          0.0           0           0            Kkkt_makwale   \n",
       "1748          0.0           0           0                  Danida   \n",
       "1963          0.0           0           0            Kkkt_makwale   \n",
       "2580          0.0           0           0               Rc Church   \n",
       "...           ...         ...         ...                     ...   \n",
       "59354         0.0           0           0                      Md   \n",
       "59359         0.0           0           0                  Hesawa   \n",
       "59369         0.0           0           0               Rc Church   \n",
       "59379         0.0           0           0                      Do   \n",
       "59392         0.0           0           0  Government Of Tanzania   \n",
       "\n",
       "                  installer          basin subvillage  region           lga  \\\n",
       "370              Government  Lake Victoria     Nyanza  Mwanza         Geita   \n",
       "1005   KKKT _ Konde and DWE     Lake Nyasa     Isimba   Mbeya         Kyela   \n",
       "1748     Central government     Lake Nyasa    Malungo   Mbeya         Kyela   \n",
       "1963   KKKT _ Konde and DWE     Lake Nyasa     Isimba   Mbeya         Kyela   \n",
       "2580              RC Church     Lake Nyasa  Matwalani   Mbeya   Mbeya Rural   \n",
       "...                     ...            ...        ...     ...           ...   \n",
       "59354                    DW  Lake Victoria  Kishoju 1  Kagera        Muleba   \n",
       "59359                HESAWA  Lake Victoria   Mishenye  Kagera  Bukoba Rural   \n",
       "59369             RC Church     Lake Nyasa   Mjimwema   Mbeya   Mbeya Rural   \n",
       "59379                    DO  Lake Victoria  Kaluyango  Kagera        Muleba   \n",
       "59392            Government     Lake Rukwa  Mbuyuni A   Mbeya        Chunya   \n",
       "\n",
       "              ward scheme_management permit date_recorded  construction_year  \\\n",
       "370    Kalangalala               VWC   True    2011-07-18                  0   \n",
       "1005       Makwale               VWC   True    2011-07-31                  0   \n",
       "1748         Mwaya               VWC   True    2011-07-23                  0   \n",
       "1963       Makwale               VWC   True    2011-07-31                  0   \n",
       "2580        Ulenje               VWC  False    2011-04-12                  0   \n",
       "...            ...               ...    ...           ...                ...   \n",
       "59354      Nshamba               VWC   True    2011-07-26                  0   \n",
       "59359  Buterankuzi               VWC   True    2011-07-12                  0   \n",
       "59369       Ulenje               VWC  False    2011-04-12                  0   \n",
       "59379       Ikondo               VWC   True    2011-07-13                  0   \n",
       "59392      Mbuyuni               VWC   True    2011-04-15                  0   \n",
       "\n",
       "      extraction_type_class payment_type management_group quality_group  \\\n",
       "370             submersible    never pay       user-group          good   \n",
       "1005                gravity    never pay       user-group          good   \n",
       "1748                gravity    never pay       user-group          good   \n",
       "1963                gravity    never pay       user-group          good   \n",
       "2580                gravity   on failure       user-group          good   \n",
       "...                     ...          ...              ...           ...   \n",
       "59354           submersible    never pay       user-group          good   \n",
       "59359               gravity      monthly       user-group          good   \n",
       "59369               gravity   on failure       user-group          good   \n",
       "59379               gravity    never pay       user-group          good   \n",
       "59392               gravity    never pay       user-group          good   \n",
       "\n",
       "           quantity source_type waterpoint_type_group    status_group  \n",
       "370    insufficient    borehole    communal standpipe      functional  \n",
       "1005         enough      spring    communal standpipe      functional  \n",
       "1748            dry      spring    communal standpipe  non functional  \n",
       "1963         enough      spring    communal standpipe      functional  \n",
       "2580         enough  river/lake    communal standpipe  non functional  \n",
       "...             ...         ...                   ...             ...  \n",
       "59354        enough      spring    communal standpipe  non functional  \n",
       "59359        enough  river/lake    communal standpipe      functional  \n",
       "59369        enough  river/lake    communal standpipe      functional  \n",
       "59379        enough      spring    communal standpipe      functional  \n",
       "59392        enough      spring    communal standpipe  non functional  \n",
       "\n",
       "[2772 rows x 22 columns]"
      ]
     },
     "execution_count": 149,
     "metadata": {},
     "output_type": "execute_result"
    }
   ],
   "source": [
    "# Find the duplicated records\n",
    "new_data[new_data.duplicated()]"
   ]
  },
  {
   "cell_type": "markdown",
   "metadata": {},
   "source": [
    "Our dataset contains duplicated records, however, a duplicated record does not necessarily mean that the data is incorrect. Instead, they mean that a multiple wells were built under the same project, therefore, all the features will be similar."
   ]
  },
  {
   "cell_type": "markdown",
   "metadata": {},
   "source": [
    "##### 3.2.2.2 Outliers\n",
    "\n",
    "> Outliers are data points that are significantly different from the rest of the data. Outliers can be caused by human error, or they can be a result of the data collection process. Outliers can be caused by a number of factors, including:\n",
    "> - Measurement error (Instrument error)\n",
    "> - Data entry error (Human error)\n",
    "> - Changes in system behaviour\n",
    "> - Fraudulent Behaviour\n",
    "> - Natural deviations in populations\n",
    "\n",
    "\n",
    "We will be performing outlier treatment on the numerical columns in out dataset. These are:\n",
    "- `amount_tsh`\n",
    "- `gps_height`\n",
    "- `population`\n",
    "- `construction_year`\n",
    "\n",
    "The reason as to why we do outlier treatment is because:\n",
    "- It increases the error variance and reduces the power of statistical tests\n",
    "- If the outliers are non-randomly distributed, they can decrease normality"
   ]
  },
  {
   "cell_type": "markdown",
   "metadata": {},
   "source": [
    "We shall create a function to evaluate the outliers in the numerical columns within our dataset by use of boxplots."
   ]
  },
  {
   "cell_type": "code",
   "execution_count": 150,
   "metadata": {},
   "outputs": [],
   "source": [
    "def outliers(df, col, title):\n",
    "    \"\"\"\n",
    "    This function visualises the outliers and outputs boxplots\n",
    "    \"\"\"\n",
    "    plt.figure(figsize=(10,2))\n",
    "    sns.boxplot(x=col, data=df)\n",
    "    plt.title(title, fontsize=15);"
   ]
  },
  {
   "cell_type": "code",
   "execution_count": 151,
   "metadata": {},
   "outputs": [
    {
     "data": {
      "image/png": "[encoded data removed]",
      "text/plain": [
       "<Figure size 720x144 with 1 Axes>"
      ]
     },
     "metadata": {},
     "output_type": "display_data"
    }
   ],
   "source": [
    "# Visualise the outliers in the amount_tsh column\n",
    "outliers(new_data, 'amount_tsh', 'Total Static Head (amount_tsh) Outliers')"
   ]
  },
  {
   "cell_type": "markdown",
   "metadata": {},
   "source": [
    "In the total static head boxplot, we can see that there are outliers in the data. However, the outliers do not represent erroneous data as it is possible to have a total static head of even 250,000. Therefore, we will not be removing the outliers. It is also worth noting that the majority of the data is clustered around 0. This will need to be further investigated in univariate analysis."
   ]
  },
  {
   "cell_type": "code",
   "execution_count": 152,
   "metadata": {},
   "outputs": [
    {
     "data": {
      "image/png": "[encoded data removed]",
      "text/plain": [
       "<Figure size 720x144 with 1 Axes>"
      ]
     },
     "metadata": {},
     "output_type": "display_data"
    }
   ],
   "source": [
    "# Visualise the outliers in the amount_tsh column\n",
    "outliers(new_data, 'gps_height', 'Altitude (gps_height) Outliers')"
   ]
  },
  {
   "cell_type": "markdown",
   "metadata": {},
   "source": [
    "From the gps_height column, we can see that there are no outliers. This means that we do not need to treat this data for outliers."
   ]
  },
  {
   "cell_type": "code",
   "execution_count": 153,
   "metadata": {},
   "outputs": [
    {
     "data": {
      "image/png": "[encoded data removed]",
      "text/plain": [
       "<Figure size 720x144 with 1 Axes>"
      ]
     },
     "metadata": {},
     "output_type": "display_data"
    }
   ],
   "source": [
    "# Visualise the outliers in the population column\n",
    "outliers(new_data, 'population', 'Population Outliers')"
   ]
  },
  {
   "cell_type": "markdown",
   "metadata": {},
   "source": [
    "In the visualisation above, we see that there are outliers in the population column. However, the outliers do not represent erroneous data as it is possible to have a population of even 30,000. Therefore, we will not be removing the outliers. Population is a region dependent variable, therefore, it is possible to have a population of upto even 30,000 people living near a particular well.\n",
    "\n",
    "In order to confirm this, we will identify records that contain significant outliers in the population column, and confirm their validity through online research."
   ]
  },
  {
   "cell_type": "code",
   "execution_count": 154,
   "metadata": {},
   "outputs": [
    {
     "data": {
      "image/png": "[encoded data removed]",
      "text/plain": [
       "<Figure size 720x144 with 1 Axes>"
      ]
     },
     "metadata": {},
     "output_type": "display_data"
    }
   ],
   "source": [
    "# Visualise the outliers in the construction_year column\n",
    "outliers(new_data, 'construction_year', 'Construction Year Outliers')"
   ]
  },
  {
   "cell_type": "markdown",
   "metadata": {},
   "source": [
    "From the boxplot above, we can see that the construction year column has no outliers in the column. However, we have noticed that there are some years that do not make sense. This means that the data is most probably affected by errors. We will be investigating this further in the univariate analysis. All in all, there are no outliers to treat in the construction year column."
   ]
  },
  {
   "cell_type": "markdown",
   "metadata": {},
   "source": [
    "#### 3.2.3 Uniformity\n",
    "> In this section, we will be looking at the uniformity of the data. Uniformity refers to the consistency of the data with respect to the formatting, labelling. We will be looking at the following:\n",
    "> - Labelling\n",
    "> - Formatting"
   ]
  },
  {
   "cell_type": "markdown",
   "metadata": {},
   "source": [
    "##### 3.2.3.1 Labelling\n",
    "> Labelling refers to the consistency of the data with respect to the labelling of the data. We will be looking at the following:\n",
    "> - Are the columns small case?\n",
    "> - Are there any spaces?\n",
    "> - Are they interpretable?\n",
    "\n",
    "We will be writing a function that will check the labelling of the columns in the dataset. The function will output the columns that are not small case, as well as the columns that contain spaces."
   ]
  },
  {
   "cell_type": "code",
   "execution_count": 155,
   "metadata": {},
   "outputs": [],
   "source": [
    "# Write function to rename columns\n",
    "def rename_columns(df, col):\n",
    "    \"\"\" \n",
    "    This function re-formats the column names to ensure that they are all in lower case and contain no spaces\n",
    "    \"\"\"\n",
    "    new_col = col.strip().replace(' ', '_').lower()\n",
    "    \n",
    "    df.rename(columns = {col: new_col}, inplace = True)"
   ]
  },
  {
   "cell_type": "code",
   "execution_count": 156,
   "metadata": {},
   "outputs": [],
   "source": [
    "# Loop through all the column names and reformat them\n",
    "for col in new_data.columns:\n",
    "    rename_columns(new_data, col)"
   ]
  },
  {
   "cell_type": "markdown",
   "metadata": {},
   "source": [
    "We will also be looking at the column names to ensure that they are interpretable"
   ]
  },
  {
   "cell_type": "code",
   "execution_count": 157,
   "metadata": {},
   "outputs": [
    {
     "data": {
      "text/plain": [
       "Index(['amount_tsh', 'gps_height', 'population', 'funder', 'installer',\n",
       "       'basin', 'subvillage', 'region', 'lga', 'ward', 'scheme_management',\n",
       "       'permit', 'date_recorded', 'construction_year', 'extraction_type_class',\n",
       "       'payment_type', 'management_group', 'quality_group', 'quantity',\n",
       "       'source_type', 'waterpoint_type_group', 'status_group'],\n",
       "      dtype='object')"
      ]
     },
     "execution_count": 157,
     "metadata": {},
     "output_type": "execute_result"
    }
   ],
   "source": [
    "new_data.columns"
   ]
  },
  {
   "cell_type": "markdown",
   "metadata": {},
   "source": [
    "Looking at the column names above, we can firstly confirm that the column names are small case. Furthermore, with the uniformity of the spaces, we can confirm that the column names are interpretable. As for the names of the columns, other than `lga`, the rest of the column names are interpretable."
   ]
  },
  {
   "cell_type": "code",
   "execution_count": 158,
   "metadata": {},
   "outputs": [
    {
     "data": {
      "text/plain": [
       "Index(['amount_tsh', 'gps_height', 'population', 'funder', 'installer',\n",
       "       'basin', 'subvillage', 'region', 'local_government_area', 'ward',\n",
       "       'scheme_management', 'permit', 'date_recorded', 'construction_year',\n",
       "       'extraction_type_class', 'payment_type', 'management_group',\n",
       "       'quality_group', 'quantity', 'source_type', 'waterpoint_type_group',\n",
       "       'status_group'],\n",
       "      dtype='object')"
      ]
     },
     "execution_count": 158,
     "metadata": {},
     "output_type": "execute_result"
    }
   ],
   "source": [
    "# Rename the 'lga' column to 'local_government_area'\n",
    "new_data.rename(columns = {'lga': 'local_government_area'}, inplace = True)\n",
    "\n",
    "new_data.columns"
   ]
  },
  {
   "cell_type": "markdown",
   "metadata": {},
   "source": [
    "##### 3.2.3.2 Formatting\n",
    "> The formatting of the data refers to the consistency of the data with respect to the datatypes of the columns. We will be looking at the following:"
   ]
  },
  {
   "cell_type": "code",
   "execution_count": 159,
   "metadata": {},
   "outputs": [],
   "source": [
    "# Write a function to to convert the columns to the appropriate data types\n",
    "def convert_to_category(df, col):\n",
    "    \"\"\"\n",
    "    This function converts the object categories to category data type\n",
    "    \"\"\"\n",
    "    df[col] = df[col].astype('category')"
   ]
  },
  {
   "cell_type": "code",
   "execution_count": 160,
   "metadata": {},
   "outputs": [],
   "source": [
    "# Write for loop to convert the object categoris to a category datatype\n",
    "for col in new_data.select_dtypes(include='object').columns:\n",
    "    convert_to_category(new_data, col)"
   ]
  },
  {
   "cell_type": "code",
   "execution_count": 161,
   "metadata": {},
   "outputs": [],
   "source": [
    "# Convert the date_recorded to datetime format\n",
    "new_data['date_recorded'] = pd.to_datetime(new_data['date_recorded'], infer_datetime_format=True)\n",
    "\n",
    "# # Convert the construction_year to datetime format\n",
    "# new_data['construction_year'] = pd.to_datetime(new_data['construction_year'], format='%Y')"
   ]
  },
  {
   "cell_type": "markdown",
   "metadata": {},
   "source": [
    "#### 3.2.4 Consistency."
   ]
  },
  {
   "cell_type": "markdown",
   "metadata": {},
   "source": [
    "We shall be checking the `installer` and   `funder` columns and ensuring the spellings for certain values just to ensure there is no repetition/ ensure consistency of values."
   ]
  },
  {
   "cell_type": "code",
   "execution_count": 162,
   "metadata": {},
   "outputs": [
    {
     "data": {
      "text/plain": [
       "DWE                  17312\n",
       "Government            1788\n",
       "RWE                   1202\n",
       "DANIDA                1049\n",
       "KKKT                   895\n",
       "                     ...  \n",
       "Mu                       1\n",
       "Muhindi                  1\n",
       "Mungaya                  1\n",
       "Municipal Council        1\n",
       "Madra                    1\n",
       "Name: installer, Length: 2040, dtype: int64"
      ]
     },
     "execution_count": 162,
     "metadata": {},
     "output_type": "execute_result"
    }
   ],
   "source": [
    "new_data['installer'].value_counts()"
   ]
  },
  {
   "cell_type": "markdown",
   "metadata": {},
   "source": [
    "since we had dropped rows with missing values, lets go ahead and improve a few things...\n",
    "- [we got some assistance from these project](https://github.com/ezgigm/Project3_TanzanianWaterWell_Status_Prediction/blob/master/STEP1_Cleaning_and_Exploring_Data.ipynb)"
   ]
  },
  {
   "cell_type": "code",
   "execution_count": 163,
   "metadata": {},
   "outputs": [],
   "source": [
    "# From the most common 100 value counts we realized some spelling mistakes or different syntax between same categories\n",
    "\n",
    "# Replacing the spelling mistakes and collect same categories in same name\n",
    "\n",
    "new_data['installer'].replace(to_replace = ('District Water Department', 'District water depar','Distric Water Department'),\n",
    "                        value ='District water department' , inplace=True)\n",
    "\n",
    "new_data['installer'].replace(to_replace = ('FinW','Fini water','FINI WATER'), value ='Fini Water' , inplace=True)\n",
    "new_data['installer'].replace(to_replace = 'JAICA', value ='Jaica' , inplace=True)\n",
    "\n",
    "new_data['installer'].replace(to_replace = ('COUN', 'District COUNCIL', 'DISTRICT COUNCIL','District Counci', \n",
    "                                  'District Council','Council','Counc','District  Council','Distri'),\n",
    "                                 value ='District council' , inplace=True)\n",
    "new_data\n",
    "new_data['installer'].replace(to_replace = ('RC CHURCH', 'RC Churc', 'RC','RC Ch','RC C', 'RC CH','RC church', \n",
    "                                   'RC CATHORIC',) , value ='RC Church' , inplace=True)\n",
    "\n",
    "new_data['installer'].replace(to_replace = ('Central Government','Tanzania Government',\n",
    "                                    'central government','Cental Government', 'Cebtral Government', \n",
    "                                  'Tanzanian Government','Tanzania government', 'Centra Government' ,\n",
    "                                    'CENTRAL GOVERNMENT', 'TANZANIAN GOVERNMENT','Central govt', 'Centr', \n",
    "                                    'Centra govt') , value ='Central government' , inplace=True)\n",
    "\n",
    "new_data['installer'].replace(to_replace = ('World vision', 'World Division','World Vision'),\n",
    "                                      value ='world vision' , inplace=True)\n",
    "\n",
    "new_data['installer'].replace(to_replace = ('Unisef','UNICEF'),value ='Unicef' , inplace=True)\n",
    "new_data['installer'].replace(to_replace = 'DANID', value ='DANIDA' , inplace=True)\n",
    "\n",
    "new_data['installer'].replace(to_replace = ('villigers', 'villager', 'Villagers', 'Villa', 'Village', 'Villi', \n",
    "                                    'Village Council','Village Counil', 'Villages', 'Vill', 'Village community', \n",
    "                                    'Villaers', 'Village Community', 'Villag','Villege Council', 'Village council',\n",
    "                                    'Village  Council','Villagerd', 'Villager', 'Village Technician',\n",
    "                                    'Village Office','Village community members'),\n",
    "                                     value ='villagers' , inplace=True)\n",
    "\n",
    "new_data['installer'].replace(to_replace =('Commu','Communit','commu','COMMU', 'COMMUNITY') ,\n",
    "                                      value ='Community' , inplace=True)\n",
    "new_data['installer'].replace(to_replace = ('GOVERNMENT', 'GOVER', 'GOVERNME', 'GOVERM','GOVERN','Gover','Gove',\n",
    "                                      'Governme','Governmen' ) ,value ='Government' , inplace=True)\n",
    "\n",
    "new_data['installer'].replace(to_replace = 'Hesawa' ,value ='HESAWA' , inplace=True)"
   ]
  },
  {
   "cell_type": "code",
   "execution_count": 164,
   "metadata": {},
   "outputs": [],
   "source": [
    "# continue to replacing spellin mistakes and getting together values\n",
    "new_data['installer'].replace(to_replace = ('Colonial Government') , value ='Colonial government' , inplace=True)\n",
    "new_data['installer'].replace(to_replace = ('Government of Misri') , value ='Misri Government' , inplace=True)\n",
    "new_data['installer'].replace(to_replace = ('Italy government') , value ='Italian government' , inplace=True)\n",
    "new_data['installer'].replace(to_replace = ('British colonial government') , value ='British government' , inplace=True)\n",
    "new_data['installer'].replace(to_replace = ('Concern /government') , value ='Concern/Government' , inplace=True)\n",
    "new_data['installer'].replace(to_replace = ('Village Government') , value ='Village government' , inplace=True)\n",
    "new_data['installer'].replace(to_replace = ('Government and Community') , value ='Government /Community' , inplace=True)\n",
    "new_data['installer'].replace(to_replace = ('Cetral government /RC') , value ='RC church/Central Gover' , inplace=True)\n",
    "new_data['installer'].replace(to_replace = ('Government /TCRS','Government/TCRS') , value ='TCRS /Government' , inplace=True)\n",
    "new_data['installer'].replace(to_replace = ('ADRA /Government') , value ='ADRA/Government' , inplace=True)"
   ]
  },
  {
   "cell_type": "markdown",
   "metadata": {},
   "source": [
    "##### `funder` column"
   ]
  },
  {
   "cell_type": "code",
   "execution_count": 165,
   "metadata": {},
   "outputs": [
    {
     "data": {
      "text/html": [
       "<div>\n",
       "<style scoped>\n",
       "    .dataframe tbody tr th:only-of-type {\n",
       "        vertical-align: middle;\n",
       "    }\n",
       "\n",
       "    .dataframe tbody tr th {\n",
       "        vertical-align: top;\n",
       "    }\n",
       "\n",
       "    .dataframe thead th {\n",
       "        text-align: right;\n",
       "    }\n",
       "</style>\n",
       "<table border=\"1\" class=\"dataframe\">\n",
       "  <thead>\n",
       "    <tr style=\"text-align: right;\">\n",
       "      <th></th>\n",
       "      <th>funder</th>\n",
       "    </tr>\n",
       "  </thead>\n",
       "  <tbody>\n",
       "    <tr>\n",
       "      <th>Government Of Tanzania</th>\n",
       "      <td>8969</td>\n",
       "    </tr>\n",
       "    <tr>\n",
       "      <th>Danida</th>\n",
       "      <td>3112</td>\n",
       "    </tr>\n",
       "    <tr>\n",
       "      <th>Hesawa</th>\n",
       "      <td>2020</td>\n",
       "    </tr>\n",
       "    <tr>\n",
       "      <th>Rwssp</th>\n",
       "      <td>1371</td>\n",
       "    </tr>\n",
       "    <tr>\n",
       "      <th>Kkkt</th>\n",
       "      <td>1282</td>\n",
       "    </tr>\n",
       "    <tr>\n",
       "      <th>...</th>\n",
       "      <td>...</td>\n",
       "    </tr>\n",
       "    <tr>\n",
       "      <th>Mwanamisi Ally</th>\n",
       "      <td>1</td>\n",
       "    </tr>\n",
       "    <tr>\n",
       "      <th>Mwanza</th>\n",
       "      <td>1</td>\n",
       "    </tr>\n",
       "    <tr>\n",
       "      <th>Mwigicho</th>\n",
       "      <td>1</td>\n",
       "    </tr>\n",
       "    <tr>\n",
       "      <th>Mwingereza</th>\n",
       "      <td>1</td>\n",
       "    </tr>\n",
       "    <tr>\n",
       "      <th>Mfuko Wa Jimbo La Magu</th>\n",
       "      <td>1</td>\n",
       "    </tr>\n",
       "  </tbody>\n",
       "</table>\n",
       "<p>1822 rows × 1 columns</p>\n",
       "</div>"
      ],
      "text/plain": [
       "                        funder\n",
       "Government Of Tanzania    8969\n",
       "Danida                    3112\n",
       "Hesawa                    2020\n",
       "Rwssp                     1371\n",
       "Kkkt                      1282\n",
       "...                        ...\n",
       "Mwanamisi Ally               1\n",
       "Mwanza                       1\n",
       "Mwigicho                     1\n",
       "Mwingereza                   1\n",
       "Mfuko Wa Jimbo La Magu       1\n",
       "\n",
       "[1822 rows x 1 columns]"
      ]
     },
     "execution_count": 165,
     "metadata": {},
     "output_type": "execute_result"
    }
   ],
   "source": [
    "pd.DataFrame(new_data['funder'].value_counts())"
   ]
  },
  {
   "cell_type": "code",
   "execution_count": 166,
   "metadata": {},
   "outputs": [
    {
     "data": {
      "text/plain": [
       "Index(['amount_tsh', 'gps_height', 'population', 'funder', 'installer',\n",
       "       'basin', 'subvillage', 'region', 'local_government_area', 'ward',\n",
       "       'scheme_management', 'permit', 'date_recorded', 'construction_year',\n",
       "       'extraction_type_class', 'payment_type', 'management_group',\n",
       "       'quality_group', 'quantity', 'source_type', 'waterpoint_type_group',\n",
       "       'status_group'],\n",
       "      dtype='object')"
      ]
     },
     "execution_count": 166,
     "metadata": {},
     "output_type": "execute_result"
    }
   ],
   "source": [
    "new_data.columns"
   ]
  },
  {
   "cell_type": "markdown",
   "metadata": {},
   "source": [
    "### 3.3 Exploratory Data Analysis\n",
    "> In this section, we shall be exploring the columns in the dataset. We shall be performing the following:\n",
    "> - Univariate Analysis\n",
    "> - Bivariate Analysis\n",
    "> - Multi-variate Analysis"
   ]
  },
  {
   "cell_type": "markdown",
   "metadata": {},
   "source": [
    "#### 3.4.1 Univariate Analysis\n",
    "> In this section, we'll explore each column in the dataset to see the distributions of features and obtain some useful insights. The main two parts in this section are: \n",
    ">   - Categorical Columns\n",
    ">   - Numerical Columns"
   ]
  },
  {
   "cell_type": "code",
   "execution_count": 167,
   "metadata": {},
   "outputs": [
    {
     "name": "stdout",
     "output_type": "stream",
     "text": [
      "Categorical Columns: Index([], dtype='object')\n"
     ]
    }
   ],
   "source": [
    "print(f\"Categorical Columns: {(new_data.select_dtypes(include='object').columns)}\")"
   ]
  },
  {
   "cell_type": "code",
   "execution_count": 168,
   "metadata": {},
   "outputs": [
    {
     "name": "stdout",
     "output_type": "stream",
     "text": [
      "Numerical Columns: Index(['amount_tsh', 'gps_height', 'population', 'construction_year'], dtype='object')\n"
     ]
    }
   ],
   "source": [
    "print(f\"Numerical Columns: {(new_data.select_dtypes(include='number').columns)}\")"
   ]
  },
  {
   "cell_type": "markdown",
   "metadata": {},
   "source": [
    "#### 3.4.1.1 Categorical Columns\n",
    "\n",
    "There are 18 categorical columns in the dataset. We will be performing univariate analysis on these columns."
   ]
  },
  {
   "cell_type": "code",
   "execution_count": 169,
   "metadata": {},
   "outputs": [],
   "source": [
    "# Fuction to get the value counts of the data in the columns\n",
    "def get_value_counts(df, col):\n",
    "    ''' Returns the value counts of a column in a dataframe '''\n",
    "    counts = df[col].value_counts(dropna=False, ascending=False)\n",
    "    return counts\n",
    "\n",
    "# Function to visualise the the data in the columns\n",
    "def plot_data(df, col, title):\n",
    "    ''' Plots the value counts of the top 20 categories of a column in a dataframe as a bar chart '''\n",
    "    get_value_counts(df, col).head(20).plot(kind='bar', figsize=(15, 5), color='#037bfc', edgecolor='black', fontsize=10)\n",
    "    plt.title(title)\n",
    "    plt.xticks(rotation=90)"
   ]
  },
  {
   "cell_type": "markdown",
   "metadata": {},
   "source": [
    "##### 3.4.1.1.1 `funder`\n",
    "> The funder column contains the name of the organisation/person that funded the project."
   ]
  },
  {
   "cell_type": "code",
   "execution_count": 170,
   "metadata": {},
   "outputs": [
    {
     "data": {
      "image/png": "[encoded data removed]",
      "text/plain": [
       "<Figure size 1080x360 with 1 Axes>"
      ]
     },
     "metadata": {},
     "output_type": "display_data"
    }
   ],
   "source": [
    "# Get the value counts of the funder column\n",
    "get_value_counts(new_data, 'funder')\n",
    "\n",
    "# Visualise the data in the funder column\n",
    "plot_data(new_data, 'funder', 'Funder Column Data Distribution')"
   ]
  }
 ],
 "metadata": {
  "kernelspec": {
   "display_name": "Python 3.10.6 ('ds-env')",
   "language": "python",
   "name": "python3"
  },
  "language_info": {
   "codemirror_mode": {
    "name": "ipython",
    "version": 3
   },
   "file_extension": ".py",
   "mimetype": "text/x-python",
   "name": "python",
   "nbconvert_exporter": "python",
   "pygments_lexer": "ipython3",
   "version": "3.10.6"
  },
  "orig_nbformat": 4,
  "vscode": {
   "interpreter": {
    "hash": "d98b8dff6a02560aba3e19bb81552726c9ef1b3e0d775c06ff372e0399c3fb60"
   }
  }
 },
 "nbformat": 4,
 "nbformat_minor": 2
}
